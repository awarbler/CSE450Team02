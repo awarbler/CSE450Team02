{
  "cells": [
    {
      "attachments": {},
      "cell_type": "markdown",
      "metadata": {},
      "source": [
        "# Goals \n",
        "1. the core task we're interested in is identifying those customers most likely to subscribe to a term deposit\n",
        "\n",
        " \n",
        "\n",
        "2. actionable patterns in data\n",
        "\n",
        " \n",
        "\n",
        "3. does frequent contact have an adverse effect\n",
        "\n",
        " \n",
        "\n",
        "4. seperate models for historic economic indicators\n",
        "\n",
        " \n",
        "\n",
        "5. the model should be saved to a file\n",
        "\n",
        " \n",
        "\n",
        "6. run the model on a different set of data and make target predictions"
      ]
    },
    {
      "cell_type": "code",
      "execution_count": 81,
      "metadata": {
        "id": "mA0HPVmIBT4C"
      },
      "outputs": [],
      "source": [
        "\n",
        "import pandas as pd\n",
        "import numpy as np\n",
        "from pathlib import Path\n",
        "import seaborn as sns\n",
        "import matplotlib.pyplot as plt\n",
        "import scipy.stats\n",
        "\n",
        "import os\n",
        "os.environ[\"COLUMNS\"] = \"74\" # output width, in characters \n",
        "np.set_printoptions(linewidth=74) \n",
        "pd.set_option(\"display.width\", 74)"
      ]
    },
    {
      "attachments": {},
      "cell_type": "markdown",
      "metadata": {},
      "source": [
        "Use pandas to read in the datasets as a dataframe."
      ]
    },
    {
      "cell_type": "code",
      "execution_count": 82,
      "metadata": {},
      "outputs": [],
      "source": [
        "campaign = pd.read_csv('https://raw.githubusercontent.com/byui-cse/cse450-course/master/data/bank.csv')"
      ]
    },
    {
      "attachments": {},
      "cell_type": "markdown",
      "metadata": {},
      "source": [
        "Questions we should be asking \n",
        "Are social status and stbility relevant?\n",
        "Are date and time conditions relevant?\n",
        "Are banking profiling indicatiors relevant?\n",
        "Are financial assets relevant?\n",
        "Is residence district relevant?\n",
        "Can age be related to products with longer term periods?"
      ]
    },
    {
      "attachments": {},
      "cell_type": "markdown",
      "metadata": {},
      "source": [
        "Checking the data and investigating the column types."
      ]
    },
    {
      "cell_type": "code",
      "execution_count": 83,
      "metadata": {
        "colab": {
          "base_uri": "https://localhost:8080/"
        },
        "id": "StiU5QcPPxqQ",
        "outputId": "88fbdacf-bb79-4146-8dc8-b6007d9ce53e"
      },
      "outputs": [
        {
          "data": {
            "text/plain": [
              "age                 int64\n",
              "job                object\n",
              "marital            object\n",
              "education          object\n",
              "default            object\n",
              "housing            object\n",
              "loan               object\n",
              "contact            object\n",
              "month              object\n",
              "day_of_week        object\n",
              "campaign            int64\n",
              "pdays               int64\n",
              "previous            int64\n",
              "poutcome           object\n",
              "emp.var.rate      float64\n",
              "cons.price.idx    float64\n",
              "cons.conf.idx     float64\n",
              "euribor3m         float64\n",
              "nr.employed       float64\n",
              "y                  object\n",
              "dtype: object"
            ]
          },
          "execution_count": 83,
          "metadata": {},
          "output_type": "execute_result"
        }
      ],
      "source": [
        "campaign.dtypes"
      ]
    },
    {
      "cell_type": "code",
      "execution_count": 84,
      "metadata": {},
      "outputs": [
        {
          "data": {
            "text/html": [
              "<div>\n",
              "<style scoped>\n",
              "    .dataframe tbody tr th:only-of-type {\n",
              "        vertical-align: middle;\n",
              "    }\n",
              "\n",
              "    .dataframe tbody tr th {\n",
              "        vertical-align: top;\n",
              "    }\n",
              "\n",
              "    .dataframe thead th {\n",
              "        text-align: right;\n",
              "    }\n",
              "</style>\n",
              "<table border=\"1\" class=\"dataframe\">\n",
              "  <thead>\n",
              "    <tr style=\"text-align: right;\">\n",
              "      <th></th>\n",
              "      <th>age</th>\n",
              "      <th>campaign</th>\n",
              "      <th>pdays</th>\n",
              "      <th>previous</th>\n",
              "      <th>emp.var.rate</th>\n",
              "      <th>cons.price.idx</th>\n",
              "      <th>cons.conf.idx</th>\n",
              "      <th>euribor3m</th>\n",
              "      <th>nr.employed</th>\n",
              "    </tr>\n",
              "  </thead>\n",
              "  <tbody>\n",
              "    <tr>\n",
              "      <th>count</th>\n",
              "      <td>37069.000000</td>\n",
              "      <td>37069.000000</td>\n",
              "      <td>37069.000000</td>\n",
              "      <td>37069.000000</td>\n",
              "      <td>37069.000000</td>\n",
              "      <td>37069.000000</td>\n",
              "      <td>37069.000000</td>\n",
              "      <td>37069.000000</td>\n",
              "      <td>37069.000000</td>\n",
              "    </tr>\n",
              "    <tr>\n",
              "      <th>mean</th>\n",
              "      <td>40.025493</td>\n",
              "      <td>2.564407</td>\n",
              "      <td>962.221803</td>\n",
              "      <td>0.173730</td>\n",
              "      <td>0.081526</td>\n",
              "      <td>93.576551</td>\n",
              "      <td>-40.494829</td>\n",
              "      <td>3.621945</td>\n",
              "      <td>5167.010650</td>\n",
              "    </tr>\n",
              "    <tr>\n",
              "      <th>std</th>\n",
              "      <td>10.435288</td>\n",
              "      <td>2.764084</td>\n",
              "      <td>187.531477</td>\n",
              "      <td>0.496159</td>\n",
              "      <td>1.572287</td>\n",
              "      <td>0.579339</td>\n",
              "      <td>4.628895</td>\n",
              "      <td>1.734496</td>\n",
              "      <td>72.294476</td>\n",
              "    </tr>\n",
              "    <tr>\n",
              "      <th>min</th>\n",
              "      <td>17.000000</td>\n",
              "      <td>1.000000</td>\n",
              "      <td>0.000000</td>\n",
              "      <td>0.000000</td>\n",
              "      <td>-3.400000</td>\n",
              "      <td>92.201000</td>\n",
              "      <td>-50.800000</td>\n",
              "      <td>0.634000</td>\n",
              "      <td>4963.600000</td>\n",
              "    </tr>\n",
              "    <tr>\n",
              "      <th>25%</th>\n",
              "      <td>32.000000</td>\n",
              "      <td>1.000000</td>\n",
              "      <td>999.000000</td>\n",
              "      <td>0.000000</td>\n",
              "      <td>-1.800000</td>\n",
              "      <td>93.075000</td>\n",
              "      <td>-42.700000</td>\n",
              "      <td>1.344000</td>\n",
              "      <td>5099.100000</td>\n",
              "    </tr>\n",
              "    <tr>\n",
              "      <th>50%</th>\n",
              "      <td>38.000000</td>\n",
              "      <td>2.000000</td>\n",
              "      <td>999.000000</td>\n",
              "      <td>0.000000</td>\n",
              "      <td>1.100000</td>\n",
              "      <td>93.749000</td>\n",
              "      <td>-41.800000</td>\n",
              "      <td>4.857000</td>\n",
              "      <td>5191.000000</td>\n",
              "    </tr>\n",
              "    <tr>\n",
              "      <th>75%</th>\n",
              "      <td>47.000000</td>\n",
              "      <td>3.000000</td>\n",
              "      <td>999.000000</td>\n",
              "      <td>0.000000</td>\n",
              "      <td>1.400000</td>\n",
              "      <td>93.994000</td>\n",
              "      <td>-36.400000</td>\n",
              "      <td>4.961000</td>\n",
              "      <td>5228.100000</td>\n",
              "    </tr>\n",
              "    <tr>\n",
              "      <th>max</th>\n",
              "      <td>98.000000</td>\n",
              "      <td>56.000000</td>\n",
              "      <td>999.000000</td>\n",
              "      <td>7.000000</td>\n",
              "      <td>1.400000</td>\n",
              "      <td>94.767000</td>\n",
              "      <td>-26.900000</td>\n",
              "      <td>5.045000</td>\n",
              "      <td>5228.100000</td>\n",
              "    </tr>\n",
              "  </tbody>\n",
              "</table>\n",
              "</div>"
            ],
            "text/plain": [
              "                age      campaign         pdays      previous   \n",
              "count  37069.000000  37069.000000  37069.000000  37069.000000  \\\n",
              "mean      40.025493      2.564407    962.221803      0.173730   \n",
              "std       10.435288      2.764084    187.531477      0.496159   \n",
              "min       17.000000      1.000000      0.000000      0.000000   \n",
              "25%       32.000000      1.000000    999.000000      0.000000   \n",
              "50%       38.000000      2.000000    999.000000      0.000000   \n",
              "75%       47.000000      3.000000    999.000000      0.000000   \n",
              "max       98.000000     56.000000    999.000000      7.000000   \n",
              "\n",
              "       emp.var.rate  cons.price.idx  cons.conf.idx     euribor3m   \n",
              "count  37069.000000    37069.000000   37069.000000  37069.000000  \\\n",
              "mean       0.081526       93.576551     -40.494829      3.621945   \n",
              "std        1.572287        0.579339       4.628895      1.734496   \n",
              "min       -3.400000       92.201000     -50.800000      0.634000   \n",
              "25%       -1.800000       93.075000     -42.700000      1.344000   \n",
              "50%        1.100000       93.749000     -41.800000      4.857000   \n",
              "75%        1.400000       93.994000     -36.400000      4.961000   \n",
              "max        1.400000       94.767000     -26.900000      5.045000   \n",
              "\n",
              "        nr.employed  \n",
              "count  37069.000000  \n",
              "mean    5167.010650  \n",
              "std       72.294476  \n",
              "min     4963.600000  \n",
              "25%     5099.100000  \n",
              "50%     5191.000000  \n",
              "75%     5228.100000  \n",
              "max     5228.100000  "
            ]
          },
          "execution_count": 84,
          "metadata": {},
          "output_type": "execute_result"
        }
      ],
      "source": [
        "campaign.describe()"
      ]
    },
    {
      "cell_type": "code",
      "execution_count": 85,
      "metadata": {},
      "outputs": [
        {
          "name": "stdout",
          "output_type": "stream",
          "text": [
            "(37069, 20)\n",
            "Index(['age', 'job', 'marital', 'education', 'default', 'housing',\n",
            "       'loan', 'contact', 'month', 'day_of_week', 'campaign', 'pdays',\n",
            "       'previous', 'poutcome', 'emp.var.rate', 'cons.price.idx',\n",
            "       'cons.conf.idx', 'euribor3m', 'nr.employed', 'y'],\n",
            "      dtype='object')\n"
          ]
        },
        {
          "data": {
            "text/html": [
              "<div>\n",
              "<style scoped>\n",
              "    .dataframe tbody tr th:only-of-type {\n",
              "        vertical-align: middle;\n",
              "    }\n",
              "\n",
              "    .dataframe tbody tr th {\n",
              "        vertical-align: top;\n",
              "    }\n",
              "\n",
              "    .dataframe thead th {\n",
              "        text-align: right;\n",
              "    }\n",
              "</style>\n",
              "<table border=\"1\" class=\"dataframe\">\n",
              "  <thead>\n",
              "    <tr style=\"text-align: right;\">\n",
              "      <th></th>\n",
              "      <th>age</th>\n",
              "      <th>job</th>\n",
              "      <th>marital</th>\n",
              "      <th>education</th>\n",
              "      <th>default</th>\n",
              "      <th>housing</th>\n",
              "      <th>loan</th>\n",
              "      <th>contact</th>\n",
              "      <th>month</th>\n",
              "      <th>day_of_week</th>\n",
              "      <th>campaign</th>\n",
              "      <th>pdays</th>\n",
              "      <th>previous</th>\n",
              "      <th>poutcome</th>\n",
              "      <th>emp.var.rate</th>\n",
              "      <th>cons.price.idx</th>\n",
              "      <th>cons.conf.idx</th>\n",
              "      <th>euribor3m</th>\n",
              "      <th>nr.employed</th>\n",
              "      <th>y</th>\n",
              "    </tr>\n",
              "  </thead>\n",
              "  <tbody>\n",
              "    <tr>\n",
              "      <th>0</th>\n",
              "      <td>56</td>\n",
              "      <td>housemaid</td>\n",
              "      <td>married</td>\n",
              "      <td>basic.4y</td>\n",
              "      <td>no</td>\n",
              "      <td>no</td>\n",
              "      <td>no</td>\n",
              "      <td>telephone</td>\n",
              "      <td>may</td>\n",
              "      <td>mon</td>\n",
              "      <td>1</td>\n",
              "      <td>999</td>\n",
              "      <td>0</td>\n",
              "      <td>nonexistent</td>\n",
              "      <td>1.1</td>\n",
              "      <td>93.994</td>\n",
              "      <td>-36.4</td>\n",
              "      <td>4.857</td>\n",
              "      <td>5191.0</td>\n",
              "      <td>no</td>\n",
              "    </tr>\n",
              "    <tr>\n",
              "      <th>1</th>\n",
              "      <td>57</td>\n",
              "      <td>services</td>\n",
              "      <td>married</td>\n",
              "      <td>high.school</td>\n",
              "      <td>unknown</td>\n",
              "      <td>no</td>\n",
              "      <td>no</td>\n",
              "      <td>telephone</td>\n",
              "      <td>may</td>\n",
              "      <td>mon</td>\n",
              "      <td>1</td>\n",
              "      <td>999</td>\n",
              "      <td>0</td>\n",
              "      <td>nonexistent</td>\n",
              "      <td>1.1</td>\n",
              "      <td>93.994</td>\n",
              "      <td>-36.4</td>\n",
              "      <td>4.857</td>\n",
              "      <td>5191.0</td>\n",
              "      <td>no</td>\n",
              "    </tr>\n",
              "    <tr>\n",
              "      <th>2</th>\n",
              "      <td>37</td>\n",
              "      <td>services</td>\n",
              "      <td>married</td>\n",
              "      <td>high.school</td>\n",
              "      <td>no</td>\n",
              "      <td>yes</td>\n",
              "      <td>no</td>\n",
              "      <td>telephone</td>\n",
              "      <td>may</td>\n",
              "      <td>mon</td>\n",
              "      <td>1</td>\n",
              "      <td>999</td>\n",
              "      <td>0</td>\n",
              "      <td>nonexistent</td>\n",
              "      <td>1.1</td>\n",
              "      <td>93.994</td>\n",
              "      <td>-36.4</td>\n",
              "      <td>4.857</td>\n",
              "      <td>5191.0</td>\n",
              "      <td>no</td>\n",
              "    </tr>\n",
              "    <tr>\n",
              "      <th>3</th>\n",
              "      <td>40</td>\n",
              "      <td>admin.</td>\n",
              "      <td>married</td>\n",
              "      <td>basic.6y</td>\n",
              "      <td>no</td>\n",
              "      <td>no</td>\n",
              "      <td>no</td>\n",
              "      <td>telephone</td>\n",
              "      <td>may</td>\n",
              "      <td>mon</td>\n",
              "      <td>1</td>\n",
              "      <td>999</td>\n",
              "      <td>0</td>\n",
              "      <td>nonexistent</td>\n",
              "      <td>1.1</td>\n",
              "      <td>93.994</td>\n",
              "      <td>-36.4</td>\n",
              "      <td>4.857</td>\n",
              "      <td>5191.0</td>\n",
              "      <td>no</td>\n",
              "    </tr>\n",
              "    <tr>\n",
              "      <th>4</th>\n",
              "      <td>56</td>\n",
              "      <td>services</td>\n",
              "      <td>married</td>\n",
              "      <td>high.school</td>\n",
              "      <td>no</td>\n",
              "      <td>no</td>\n",
              "      <td>yes</td>\n",
              "      <td>telephone</td>\n",
              "      <td>may</td>\n",
              "      <td>mon</td>\n",
              "      <td>1</td>\n",
              "      <td>999</td>\n",
              "      <td>0</td>\n",
              "      <td>nonexistent</td>\n",
              "      <td>1.1</td>\n",
              "      <td>93.994</td>\n",
              "      <td>-36.4</td>\n",
              "      <td>4.857</td>\n",
              "      <td>5191.0</td>\n",
              "      <td>no</td>\n",
              "    </tr>\n",
              "  </tbody>\n",
              "</table>\n",
              "</div>"
            ],
            "text/plain": [
              "   age        job  marital    education  default housing loan   \n",
              "0   56  housemaid  married     basic.4y       no      no   no  \\\n",
              "1   57   services  married  high.school  unknown      no   no   \n",
              "2   37   services  married  high.school       no     yes   no   \n",
              "3   40     admin.  married     basic.6y       no      no   no   \n",
              "4   56   services  married  high.school       no      no  yes   \n",
              "\n",
              "     contact month day_of_week  campaign  pdays  previous     poutcome   \n",
              "0  telephone   may         mon         1    999         0  nonexistent  \\\n",
              "1  telephone   may         mon         1    999         0  nonexistent   \n",
              "2  telephone   may         mon         1    999         0  nonexistent   \n",
              "3  telephone   may         mon         1    999         0  nonexistent   \n",
              "4  telephone   may         mon         1    999         0  nonexistent   \n",
              "\n",
              "   emp.var.rate  cons.price.idx  cons.conf.idx  euribor3m  nr.employed   \n",
              "0           1.1          93.994          -36.4      4.857       5191.0  \\\n",
              "1           1.1          93.994          -36.4      4.857       5191.0   \n",
              "2           1.1          93.994          -36.4      4.857       5191.0   \n",
              "3           1.1          93.994          -36.4      4.857       5191.0   \n",
              "4           1.1          93.994          -36.4      4.857       5191.0   \n",
              "\n",
              "    y  \n",
              "0  no  \n",
              "1  no  \n",
              "2  no  \n",
              "3  no  \n",
              "4  no  "
            ]
          },
          "execution_count": 85,
          "metadata": {},
          "output_type": "execute_result"
        }
      ],
      "source": [
        "print(campaign.shape) # prints data shape - returns the row and column count of a dataset\n",
        "print(campaign.columns) # print columns\n",
        "campaign.head()"
      ]
    },
    {
      "cell_type": "code",
      "execution_count": 86,
      "metadata": {},
      "outputs": [
        {
          "name": "stdout",
          "output_type": "stream",
          "text": [
            "job column\n",
            "Number of unique: 12\n",
            "job\n",
            "admin.           9400\n",
            "blue-collar      8329\n",
            "technician       6066\n",
            "services         3548\n",
            "management       2648\n",
            "retired          1534\n",
            "entrepreneur     1308\n",
            "self-employed    1274\n",
            "housemaid         962\n",
            "unemployed        913\n",
            "student           793\n",
            "unknown           294\n",
            "Name: count, dtype: int64 \n",
            "\n",
            "marital column\n",
            "Number of unique: 4\n",
            "marital\n",
            "married     22456\n",
            "single      10410\n",
            "divorced     4134\n",
            "unknown        69\n",
            "Name: count, dtype: int64 \n",
            "\n",
            "education column\n",
            "Number of unique: 8\n",
            "education\n",
            "university.degree      10949\n",
            "high.school             8554\n",
            "basic.9y                5427\n",
            "professional.course     4742\n",
            "basic.4y                3764\n",
            "basic.6y                2082\n",
            "unknown                 1535\n",
            "illiterate                16\n",
            "Name: count, dtype: int64 \n",
            "\n",
            "default column\n",
            "Number of unique: 3\n",
            "default\n",
            "no         29341\n",
            "unknown     7725\n",
            "yes            3\n",
            "Name: count, dtype: int64 \n",
            "\n",
            "housing column\n",
            "Number of unique: 3\n",
            "housing\n",
            "yes        19474\n",
            "no         16701\n",
            "unknown      894\n",
            "Name: count, dtype: int64 \n",
            "\n",
            "loan column\n",
            "Number of unique: 3\n",
            "loan\n",
            "no         30590\n",
            "yes         5585\n",
            "unknown      894\n",
            "Name: count, dtype: int64 \n",
            "\n",
            "contact column\n",
            "Number of unique: 2\n",
            "contact\n",
            "cellular     23515\n",
            "telephone    13554\n",
            "Name: count, dtype: int64 \n",
            "\n",
            "month column\n",
            "Number of unique: 10\n",
            "month\n",
            "may    12370\n",
            "jul     6445\n",
            "aug     5555\n",
            "jun     4817\n",
            "nov     3698\n",
            "apr     2369\n",
            "oct      653\n",
            "sep      508\n",
            "mar      496\n",
            "dec      158\n",
            "Name: count, dtype: int64 \n",
            "\n",
            "day_of_week column\n",
            "Number of unique: 5\n",
            "day_of_week\n",
            "thu    7742\n",
            "mon    7657\n",
            "wed    7347\n",
            "tue    7287\n",
            "fri    7036\n",
            "Name: count, dtype: int64 \n",
            "\n",
            "poutcome column\n",
            "Number of unique: 3\n",
            "poutcome\n",
            "nonexistent    31988\n",
            "failure         3843\n",
            "success         1238\n",
            "Name: count, dtype: int64 \n",
            "\n",
            "y column\n",
            "Number of unique: 2\n",
            "y\n",
            "no     32861\n",
            "yes     4208\n",
            "Name: count, dtype: int64 \n",
            "\n"
          ]
        }
      ],
      "source": [
        "#Checking out the categories and their respective counts in each feature - running it through a for loop \n",
        "for col in campaign.select_dtypes(include='object').columns: \n",
        "    print(col, \"column\")\n",
        "    print(\"Number of unique:\", campaign[col].nunique())\n",
        "    print(campaign[col].value_counts(), '\\n')"
      ]
    },
    {
      "cell_type": "code",
      "execution_count": 87,
      "metadata": {},
      "outputs": [
        {
          "data": {
            "text/plain": [
              "age               0\n",
              "job               0\n",
              "marital           0\n",
              "education         0\n",
              "default           0\n",
              "housing           0\n",
              "loan              0\n",
              "contact           0\n",
              "month             0\n",
              "day_of_week       0\n",
              "campaign          0\n",
              "pdays             0\n",
              "previous          0\n",
              "poutcome          0\n",
              "emp.var.rate      0\n",
              "cons.price.idx    0\n",
              "cons.conf.idx     0\n",
              "euribor3m         0\n",
              "nr.employed       0\n",
              "y                 0\n",
              "dtype: int64"
            ]
          },
          "execution_count": 87,
          "metadata": {},
          "output_type": "execute_result"
        }
      ],
      "source": [
        "# To check if we have any null values using below code for better clarification.\n",
        "campaign.isnull().sum()"
      ]
    },
    {
      "cell_type": "code",
      "execution_count": 88,
      "metadata": {},
      "outputs": [
        {
          "data": {
            "text/plain": [
              "array(['no', 'yes'], dtype=object)"
            ]
          },
          "execution_count": 88,
          "metadata": {},
          "output_type": "execute_result"
        }
      ],
      "source": [
        "# Finding the unique values of y\n",
        "campaign['y'].unique()"
      ]
    },
    {
      "cell_type": "code",
      "execution_count": 89,
      "metadata": {},
      "outputs": [
        {
          "data": {
            "text/plain": [
              "y\n",
              "no     32861\n",
              "yes     4208\n",
              "Name: count, dtype: int64"
            ]
          },
          "execution_count": 89,
          "metadata": {},
          "output_type": "execute_result"
        }
      ],
      "source": [
        "# values for 'y' is yes and no. count all y \n",
        "# how many people(client) have subscribed to a term deposit?  \n",
        "campaign['y'].value_counts()"
      ]
    },
    {
      "cell_type": "code",
      "execution_count": 90,
      "metadata": {},
      "outputs": [
        {
          "data": {
            "text/plain": [
              "y\n",
              "no     0.886482\n",
              "yes    0.113518\n",
              "Name: count, dtype: float64"
            ]
          },
          "execution_count": 90,
          "metadata": {},
          "output_type": "execute_result"
        }
      ],
      "source": [
        "# \n",
        "campaign[\"y\"].value_counts()/len(campaign.y)"
      ]
    },
    {
      "attachments": {},
      "cell_type": "markdown",
      "metadata": {},
      "source": [
        "The distribution of the target variables(y) 32861 - no and 4208- yes\n",
        "which is broken down to 88 % saying no and 11 % saying yes"
      ]
    },
    {
      "cell_type": "code",
      "execution_count": 91,
      "metadata": {},
      "outputs": [
        {
          "data": {
            "image/png": "[encoded data removed]",
            "text/plain": [
              "<Figure size 640x480 with 1 Axes>"
            ]
          },
          "metadata": {},
          "output_type": "display_data"
        }
      ],
      "source": [
        "# create a count plot in seaborn to show the count of observations in each categorical bin using a bar \n",
        "\n",
        "sns.set(font_scale=1.5) #calling sns. setting the font\n",
        "countplt=sns.countplot(x='y', data=campaign, palette ='Set1') # countplot for # catplot for categorical \n",
        "plt.show()\n"
      ]
    },
    {
      "attachments": {},
      "cell_type": "markdown",
      "metadata": {},
      "source": [
        "I think we may want to normalize the information "
      ]
    },
    {
      "cell_type": "code",
      "execution_count": 92,
      "metadata": {},
      "outputs": [
        {
          "data": {
            "text/plain": [
              "1487"
            ]
          },
          "execution_count": 92,
          "metadata": {},
          "output_type": "execute_result"
        }
      ],
      "source": [
        "# check for duplicates in our data \n",
        "\n",
        "campaign.duplicated().sum()"
      ]
    },
    {
      "attachments": {},
      "cell_type": "markdown",
      "metadata": {},
      "source": [
        "Our data shows there are 1487 duplicates \n",
        "\n",
        "Do we want to drop them?\n",
        "If so # Removing Duplicate Values\n",
        "df = df.drop_duplicates()"
      ]
    },
    {
      "cell_type": "code",
      "execution_count": 93,
      "metadata": {
        "colab": {
          "base_uri": "https://localhost:8080/"
        },
        "id": "RnGBwGVZPyyh",
        "outputId": "f3310480-f79b-4a93-f316-b421f5b3253a"
      },
      "outputs": [
        {
          "data": {
            "text/plain": [
              "day_of_week\n",
              "thu    958\n",
              "wed    865\n",
              "tue    857\n",
              "fri    767\n",
              "mon    761\n",
              "Name: count, dtype: int64"
            ]
          },
          "execution_count": 93,
          "metadata": {},
          "output_type": "execute_result"
        }
      ],
      "source": [
        "yes = campaign[ campaign['y'] == 'yes']\n",
        "yes['day_of_week'].value_counts()"
      ]
    },
    {
      "cell_type": "code",
      "execution_count": 94,
      "metadata": {
        "id": "7qsdd6yjcCAQ"
      },
      "outputs": [],
      "source": [
        "campaign.replace({'no':0,'yes':1},inplace=True)"
      ]
    },
    {
      "cell_type": "code",
      "execution_count": 95,
      "metadata": {
        "colab": {
          "base_uri": "https://localhost:8080/"
        },
        "id": "CVSfaqgKPzE2",
        "outputId": "308b5096-be79-4b05-b7a1-7a75f294016b"
      },
      "outputs": [
        {
          "data": {
            "text/plain": [
              "'import altair as alt\\n\\nday = campaign.groupby([\"day_of_week\",\"y\"])[\"day_of_week\"].count()\\nday.head(15)\\n\\nalt.Chart(day).mark_bar().transform_calculate().encode(\\n    alt.X(\\'y:N\\', title=\\'Survived\\', axis=alt.Axis(labelFontSize=14, labelAngle=0)),\\n    alt.Y(\\'\\', title=\\'Total Survivors\\'),\\n    column=alt.Column(\\'day_of_week:N\\', title=None)\\n).properties(\\n    title=\\'How Did Passenger Gender Affect Survival\\',\\n    width=100\\n)'"
            ]
          },
          "execution_count": 95,
          "metadata": {},
          "output_type": "execute_result"
        }
      ],
      "source": [
        "from typing_extensions import dataclass_transform\n",
        "'''import altair as alt\n",
        "\n",
        "day = campaign.groupby([\"day_of_week\",\"y\"])[\"day_of_week\"].count()\n",
        "day.head(15)\n",
        "\n",
        "alt.Chart(day).mark_bar().transform_calculate().encode(\n",
        "    alt.X('y:N', title='Survived', axis=alt.Axis(labelFontSize=14, labelAngle=0)),\n",
        "    alt.Y('', title='Total Survivors'),\n",
        "    column=alt.Column('day_of_week:N', title=None)\n",
        ").properties(\n",
        "    title='How Did Passenger Gender Affect Survival',\n",
        "    width=100\n",
        ")'''"
      ]
    },
    {
      "cell_type": "code",
      "execution_count": 96,
      "metadata": {},
      "outputs": [
        {
          "data": {
            "text/plain": [
              "age                  0\n",
              "job                294\n",
              "marital             69\n",
              "education         1535\n",
              "default           7725\n",
              "housing            894\n",
              "loan               894\n",
              "contact              0\n",
              "month                0\n",
              "day_of_week          0\n",
              "campaign             0\n",
              "pdays                0\n",
              "previous             0\n",
              "poutcome             0\n",
              "emp.var.rate         0\n",
              "cons.price.idx       0\n",
              "cons.conf.idx        0\n",
              "euribor3m            0\n",
              "nr.employed          0\n",
              "y                    0\n",
              "dtype: int64"
            ]
          },
          "execution_count": 96,
          "metadata": {},
          "output_type": "execute_result"
        }
      ],
      "source": [
        "check = campaign[[\"default\", \"housing\", \"loan\"]]\n",
        "check.apply(pd.Series.value_counts)\n",
        "campaign = campaign.replace(\"unknown\", np.nan)\n",
        "#(campaign==np.nan).sum()\n",
        "campaign.isna().sum()"
      ]
    },
    {
      "cell_type": "code",
      "execution_count": 97,
      "metadata": {},
      "outputs": [
        {
          "data": {
            "text/plain": [
              "age                 int64\n",
              "job                object\n",
              "marital            object\n",
              "education          object\n",
              "housing           float64\n",
              "loan              float64\n",
              "contact            object\n",
              "month              object\n",
              "day_of_week        object\n",
              "campaign            int64\n",
              "pdays               int64\n",
              "previous            int64\n",
              "emp.var.rate      float64\n",
              "cons.price.idx    float64\n",
              "cons.conf.idx     float64\n",
              "euribor3m         float64\n",
              "nr.employed       float64\n",
              "y                   int64\n",
              "dtype: object"
            ]
          },
          "execution_count": 97,
          "metadata": {},
          "output_type": "execute_result"
        }
      ],
      "source": [
        "# both default and poutcome have so little useable data in comparison to missing data or such a poor balance of values that I don't think they are worth using in training.\n",
        "campaign = campaign.drop([\"default\", \"poutcome\"], axis=1)\n",
        "campaign[\"housing\"] = campaign[\"housing\"].astype(float)\n",
        "campaign[\"loan\"] = campaign[\"loan\"].astype(float)\n",
        "campaign.dtypes"
      ]
    },
    {
      "cell_type": "code",
      "execution_count": 98,
      "metadata": {},
      "outputs": [],
      "source": [
        "\n",
        "campaign[\"education\"]=campaign[\"education\"].replace([\"illiterate\",\"basic.4y\",\"basic.6y\",\"basic.9y\",\"high.school\",\"professional.course\",\"university.degree\"],[1,2,3,4,5,6,7])\n",
        "campaign[\"education\"].value_counts()\n",
        "campaign = pd.get_dummies(campaign,prefix=[\"job\"],columns=[\"job\"])\n",
        "campaign = pd.get_dummies(campaign,prefix=[\"marital\"],columns=[\"marital\"])\n",
        "campaign = pd.get_dummies(campaign,prefix=[\"contact\"],columns=[\"contact\"])\n",
        "#campaign[\"job\"] = campaign[\"job\"].replace([\"unemployed\",\"student\",\"services\",\"housemaid\",\"blue-collar\",\"technician\",\"admin.\",\"management\",\"self-employed\",\"entrepreneur\",\"retired\"],[0,1,2,3,4,5,6,7,8,9,10])\n",
        "#campaign[\"job\"].value_counts()\n"
      ]
    },
    {
      "cell_type": "code",
      "execution_count": 99,
      "metadata": {},
      "outputs": [
        {
          "name": "stdout",
          "output_type": "stream",
          "text": [
            "day_of_week\n",
            "4    7742\n",
            "1    7657\n",
            "3    7347\n",
            "2    7287\n",
            "5    7036\n",
            "Name: count, dtype: int64\n",
            "month\n",
            "5     12370\n",
            "7      6445\n",
            "8      5555\n",
            "6      4817\n",
            "11     3698\n",
            "4      2369\n",
            "10      653\n",
            "9       508\n",
            "3       496\n",
            "12      158\n",
            "Name: count, dtype: int64\n"
          ]
        }
      ],
      "source": [
        "campaign['day_of_week'] = campaign['day_of_week'].replace([\"mon\",\"tue\",\"wed\",\"thu\",\"fri\"],[1,2,3,4,5]) \n",
        "campaign['month'] = campaign['month'].replace([\"jan\",\"feb\",\"mar\",\"apr\", \"may\",\"jun\", \"jul\", \"aug\", \"sep\", \"oct\", \"nov\", \"dec\"],[1,2,3,4,5,6,7,8,9,10,11,12]) \n",
        "print(campaign['day_of_week'].value_counts())\n",
        "print(campaign['month'].value_counts())\n"
      ]
    },
    {
      "cell_type": "code",
      "execution_count": 100,
      "metadata": {},
      "outputs": [
        {
          "data": {
            "text/plain": [
              "age                    int64\n",
              "education            float64\n",
              "housing              float64\n",
              "loan                 float64\n",
              "month                  int64\n",
              "day_of_week            int64\n",
              "campaign               int64\n",
              "pdays                  int64\n",
              "previous               int64\n",
              "emp.var.rate         float64\n",
              "cons.price.idx       float64\n",
              "cons.conf.idx        float64\n",
              "euribor3m            float64\n",
              "nr.employed          float64\n",
              "y                      int64\n",
              "job_admin.              bool\n",
              "job_blue-collar         bool\n",
              "job_entrepreneur        bool\n",
              "job_housemaid           bool\n",
              "job_management          bool\n",
              "job_retired             bool\n",
              "job_self-employed       bool\n",
              "job_services            bool\n",
              "job_student             bool\n",
              "job_technician          bool\n",
              "job_unemployed          bool\n",
              "marital_divorced        bool\n",
              "marital_married         bool\n",
              "marital_single          bool\n",
              "contact_cellular        bool\n",
              "contact_telephone       bool\n",
              "dtype: object"
            ]
          },
          "execution_count": 100,
          "metadata": {},
          "output_type": "execute_result"
        }
      ],
      "source": [
        "campaign.dtypes"
      ]
    },
    {
      "cell_type": "code",
      "execution_count": 101,
      "metadata": {},
      "outputs": [
        {
          "data": {
            "text/plain": [
              "age                  0\n",
              "education            0\n",
              "housing              0\n",
              "loan                 0\n",
              "month                0\n",
              "day_of_week          0\n",
              "campaign             0\n",
              "pdays                0\n",
              "previous             0\n",
              "emp.var.rate         0\n",
              "cons.price.idx       0\n",
              "cons.conf.idx        0\n",
              "euribor3m            0\n",
              "nr.employed          0\n",
              "y                    0\n",
              "job_admin.           0\n",
              "job_blue-collar      0\n",
              "job_entrepreneur     0\n",
              "job_housemaid        0\n",
              "job_management       0\n",
              "job_retired          0\n",
              "job_self-employed    0\n",
              "job_services         0\n",
              "job_student          0\n",
              "job_technician       0\n",
              "job_unemployed       0\n",
              "marital_divorced     0\n",
              "marital_married      0\n",
              "marital_single       0\n",
              "contact_cellular     0\n",
              "contact_telephone    0\n",
              "dtype: int64"
            ]
          },
          "execution_count": 101,
          "metadata": {},
          "output_type": "execute_result"
        }
      ],
      "source": [
        "from sklearn.impute import SimpleImputer\n",
        "imp_mean = SimpleImputer(missing_values=np.nan, strategy='median')\n",
        "imp_mean.fit(campaign[['loan','housing']])\n",
        "campaign[['loan','housing']] = imp_mean.transform(campaign[['loan','housing']])\n",
        "imp_mode = SimpleImputer(missing_values=np.nan, strategy='most_frequent')\n",
        "imp_mode.fit(campaign[[\"education\"]])\n",
        "campaign[[\"education\"]] = imp_mode.transform(campaign[[\"education\"]])\n",
        "campaign.isna().sum()"
      ]
    },
    {
      "cell_type": "code",
      "execution_count": 102,
      "metadata": {},
      "outputs": [
        {
          "data": {
            "text/plain": [
              "0.83985253124719"
            ]
          },
          "execution_count": 102,
          "metadata": {},
          "output_type": "execute_result"
        }
      ],
      "source": [
        "from sklearn import tree\n",
        "from sklearn.tree import DecisionTreeClassifier\n",
        "from sklearn.preprocessing import OneHotEncoder\n",
        "from sklearn.model_selection import train_test_split\n",
        "\n",
        "# Encode our features and target as needed\n",
        "features = [\"age\",\n",
        "\"education\",\n",
        "\"housing\",\n",
        "\"loan\",\n",
        "\"month\",\n",
        "\"day_of_week\",\n",
        "\"campaign\",\n",
        "\"pdays\",\n",
        "\"emp.var.rate\",\n",
        "\"cons.price.idx\",\n",
        "\"cons.conf.idx\",\n",
        "\"euribor3m\",\n",
        "\"nr.employed\",\n",
        "\"job_admin.\",\n",
        "\"job_blue-collar\",\n",
        "\"job_entrepreneur\",\n",
        "\"job_housemaid\",\n",
        "\"job_management\",\n",
        "\"job_retired\",\n",
        "\"job_self-employed\",\n",
        "\"job_services\",\n",
        "\"job_student\",\n",
        "\"job_technician\",\n",
        "\"job_unemployed\",\n",
        "\"marital_divorced\",\n",
        "\"marital_married\",\n",
        "\"marital_single\",\n",
        "\"contact_cellular\",\n",
        "\"contact_telephone\"]\n",
        "X = pd.get_dummies(campaign[features], drop_first=True)\n",
        "y = campaign['y']\n",
        "\n",
        "# Split our data into training and test data, with 30% reserved for testing\n",
        "X_train, X_test, y_train, y_test = train_test_split(X, y, test_size=0.30)\n",
        "\n",
        "# Build the decision tree\n",
        "clf = DecisionTreeClassifier()\n",
        "\n",
        "# Train it\n",
        "clf.fit(X_train, y_train)\n",
        "\n",
        "# Test it \n",
        "clf.score(X_test, y_test)"
      ]
    },
    {
      "cell_type": "code",
      "execution_count": 108,
      "metadata": {},
      "outputs": [],
      "source": [
        "import pickle\n",
        "s = pickle.dumps(clf)\n",
        "clf2 = pickle.loads(s)"
      ]
    },
    {
      "cell_type": "code",
      "execution_count": 109,
      "metadata": {},
      "outputs": [],
      "source": [
        "campaign = pd.read_csv('https://raw.githubusercontent.com/byui-cse/cse450-course/master/data/bank_holdout_test.csv')\n",
        "clf2 = pickle.loads(s)\n",
        "\n",
        "campaign.replace({'no':0,'yes':1},inplace=True)\n",
        "\n",
        "campaign = campaign.replace(\"unknown\", np.nan)\n",
        "\n",
        "campaign = campaign.drop([\"default\", \"poutcome\"], axis=1)\n",
        "campaign[\"housing\"] = campaign[\"housing\"].astype(float)\n",
        "campaign[\"loan\"] = campaign[\"loan\"].astype(float)\n",
        "\n",
        "campaign[\"education\"]=campaign[\"education\"].replace([\"illiterate\",\"basic.4y\",\"basic.6y\",\"basic.9y\",\"high.school\",\"professional.course\",\"university.degree\"],[1,2,3,4,5,6,7])\n",
        "campaign[\"education\"].value_counts()\n",
        "campaign = pd.get_dummies(campaign,prefix=[\"job\"],columns=[\"job\"])\n",
        "campaign = pd.get_dummies(campaign,prefix=[\"marital\"],columns=[\"marital\"])\n",
        "campaign = pd.get_dummies(campaign,prefix=[\"contact\"],columns=[\"contact\"])\n",
        "\n",
        "campaign['day_of_week'] = campaign['day_of_week'].replace([\"mon\",\"tue\",\"wed\",\"thu\",\"fri\"],[1,2,3,4,5]) \n",
        "campaign['month'] = campaign['month'].replace([\"jan\",\"feb\",\"mar\",\"apr\", \"may\",\"jun\", \"jul\", \"aug\", \"sep\", \"oct\", \"nov\", \"dec\"],[1,2,3,4,5,6,7,8,9,10,11,12]) \n",
        "\n",
        "imp_mean = SimpleImputer(missing_values=np.nan, strategy='median')\n",
        "imp_mean.fit(campaign[['loan','housing']])\n",
        "campaign[['loan','housing']] = imp_mean.transform(campaign[['loan','housing']])\n",
        "imp_mode = SimpleImputer(missing_values=np.nan, strategy='most_frequent')\n",
        "imp_mode.fit(campaign[[\"education\"]])\n",
        "campaign[[\"education\"]] = imp_mode.transform(campaign[[\"education\"]])\n",
        "\n",
        "\n",
        "from pathlib import Path  \n",
        "filepath = Path('out.csv')  \n",
        "filepath.parent.mkdir(exist_ok=True)\n",
        "\n",
        "predict = clf2.predict(campaign[features])\n",
        "df = pd.DataFrame(predict, columns=[\"predictions\"])\n",
        "\n",
        "df.to_csv(filepath, index=False)"
      ]
    },
    {
      "attachments": {},
      "cell_type": "markdown",
      "metadata": {},
      "source": [
        "Does it make sense to call students at all?"
      ]
    },
    {
      "cell_type": "code",
      "execution_count": 110,
      "metadata": {},
      "outputs": [
        {
          "data": {
            "text/plain": [
              "job\n",
              "admin.           1234\n",
              "technician        659\n",
              "blue-collar       568\n",
              "retired           387\n",
              "management        303\n",
              "services          293\n",
              "student           249\n",
              "self-employed     137\n",
              "unemployed        134\n",
              "entrepreneur      113\n",
              "housemaid          96\n",
              "unknown            35\n",
              "Name: count, dtype: int64"
            ]
          },
          "execution_count": 110,
          "metadata": {},
          "output_type": "execute_result"
        }
      ],
      "source": [
        "# Does it make sense to call students at all?\n",
        "import pandas as pd\n",
        "\n",
        "campaign = pd.read_csv('https://raw.githubusercontent.com/byui-cse/cse450-course/master/data/bank.csv')\n",
        "\n",
        "yes = campaign[ campaign['y'] == 'yes']\n",
        "yes['job'].value_counts()"
      ]
    },
    {
      "cell_type": "code",
      "execution_count": 112,
      "metadata": {},
      "outputs": [
        {
          "ename": "ModuleNotFoundError",
          "evalue": "No module named 'altair'",
          "output_type": "error",
          "traceback": [
            "\u001b[0;31m--------------------------------------------------------------------------\u001b[0m",
            "\u001b[0;31mModuleNotFoundError\u001b[0m                      Traceback (most recent call last)",
            "Cell \u001b[0;32mIn[112], line 1\u001b[0m\n\u001b[0;32m----> 1\u001b[0m \u001b[39mimport\u001b[39;00m \u001b[39maltair\u001b[39;00m \u001b[39mas\u001b[39;00m \u001b[39malt\u001b[39;00m\n\u001b[1;32m      3\u001b[0m alt\u001b[39m.\u001b[39mChart(yes)\u001b[39m.\u001b[39mmark_bar(\n\u001b[1;32m      4\u001b[0m     \n\u001b[1;32m      5\u001b[0m )\u001b[39m.\u001b[39mencode(\n\u001b[0;32m   (...)\u001b[0m\n\u001b[1;32m     10\u001b[0m     width\u001b[39m=\u001b[39m\u001b[39m2000\u001b[39m\n\u001b[1;32m     11\u001b[0m )\n",
            "\u001b[0;31mModuleNotFoundError\u001b[0m: No module named 'altair'"
          ]
        }
      ],
      "source": [
        "import altair as alt\n",
        "\n",
        "alt.Chart(yes).mark_bar(\n",
        "    \n",
        ").encode(\n",
        "    x=alt.X('job:N', axis=alt.Axis(labelFontSize=14, labelAngle=0)),\n",
        "    y=alt.Y('count()', title='Number of People'),\n",
        ").properties(\n",
        "    title=\"The Job of the Client Aubscribed a Term Deposit\",\n",
        "    width=2000\n",
        ")"
      ]
    },
    {
      "cell_type": "code",
      "execution_count": 113,
      "metadata": {},
      "outputs": [
        {
          "data": {
            "text/plain": [
              "age  job         marital  education          default  housing  loan  contact   month  day_of_week  campaign  pdays  previous  poutcome     emp.var.rate  cons.price.idx  cons.conf.idx  euribor3m  nr.employed  y  \n",
              "30   admin.      single   university.degree  no       no       no    cellular  apr    thu          1         999    0         nonexistent  -1.8          93.075          -47.1          1.365      5099.1       yes    3\n",
              "32   admin.      married  university.degree  no       yes      yes   cellular  jun    tue          1         999    0         nonexistent  -2.9          92.963          -40.8          1.262      5076.2       yes    2\n",
              "26   unemployed  single   university.degree  no       yes      no    cellular  apr    tue          1         999    0         nonexistent  -1.8          93.075          -47.1          1.423      5099.1       yes    2\n",
              "42   services    married  high.school        no       yes      no    cellular  apr    thu          1         999    0         nonexistent  -1.8          93.075          -47.1          1.365      5099.1       yes    2\n",
              "25   admin.      single   university.degree  no       yes      no    cellular  may    tue          1         999    0         nonexistent  -1.8          92.893          -46.2          1.266      5099.1       yes    2\n",
              "                                                                                                                                                                                                                      ..\n",
              "33   admin.      single   university.degree  no       no       no    cellular  jun    wed          1         3      1         success      -1.7          94.055          -39.8          0.715      4991.6       yes    1\n",
              "                                                                               mar    mon          1         6      2         success      -1.8          93.369          -34.8          0.646      5008.7       yes    1\n",
              "                                                                                      tue          2         999    1         failure      -1.8          92.843          -50.0          1.614      5099.1       yes    1\n",
              "                                                                               may    mon          1         999    0         nonexistent  -1.8          92.893          -46.2          1.299      5099.1       yes    1\n",
              "98   retired     married  basic.4y           unknown  yes      no    cellular  oct    fri          2         999    0         nonexistent  -3.4          92.431          -26.9          0.730      5017.5       yes    1\n",
              "Name: count, Length: 4176, dtype: int64"
            ]
          },
          "execution_count": 113,
          "metadata": {},
          "output_type": "execute_result"
        }
      ],
      "source": [
        "# customers most likely to subscribe to a term deposit?\n",
        "import pandas as pd\n",
        "\n",
        "campaign = pd.read_csv('https://raw.githubusercontent.com/byui-cse/cse450-course/master/data/bank.csv')\n",
        "\n",
        "yes2 = campaign[ campaign['y'] == 'yes']\n",
        "\n",
        "yes2.value_counts()"
      ]
    },
    {
      "cell_type": "code",
      "execution_count": 114,
      "metadata": {},
      "outputs": [
        {
          "data": {
            "text/plain": [
              "age\n",
              "33    191\n",
              "31    191\n",
              "30    190\n",
              "29    173\n",
              "34    168\n",
              "     ... \n",
              "92      3\n",
              "17      2\n",
              "98      2\n",
              "89      2\n",
              "87      1\n",
              "Name: count, Length: 75, dtype: int64"
            ]
          },
          "execution_count": 114,
          "metadata": {},
          "output_type": "execute_result"
        }
      ],
      "source": [
        "yes2['age'].value_counts()"
      ]
    },
    {
      "cell_type": "code",
      "execution_count": 115,
      "metadata": {},
      "outputs": [
        {
          "ename": "ModuleNotFoundError",
          "evalue": "No module named 'altair'",
          "output_type": "error",
          "traceback": [
            "\u001b[0;31m--------------------------------------------------------------------------\u001b[0m",
            "\u001b[0;31mModuleNotFoundError\u001b[0m                      Traceback (most recent call last)",
            "Cell \u001b[0;32mIn[115], line 1\u001b[0m\n\u001b[0;32m----> 1\u001b[0m \u001b[39mimport\u001b[39;00m \u001b[39maltair\u001b[39;00m \u001b[39mas\u001b[39;00m \u001b[39malt\u001b[39;00m\n\u001b[1;32m      2\u001b[0m alt\u001b[39m.\u001b[39mdata_transformers\u001b[39m.\u001b[39mdisable_max_rows()\n\u001b[1;32m      3\u001b[0m alt\u001b[39m.\u001b[39mChart(yes2)\u001b[39m.\u001b[39mmark_bar(\n\u001b[1;32m      4\u001b[0m     \n\u001b[1;32m      5\u001b[0m )\u001b[39m.\u001b[39mencode(\n\u001b[0;32m   (...)\u001b[0m\n\u001b[1;32m     10\u001b[0m     width\u001b[39m=\u001b[39m\u001b[39m2000\u001b[39m\n\u001b[1;32m     11\u001b[0m )\n",
            "\u001b[0;31mModuleNotFoundError\u001b[0m: No module named 'altair'"
          ]
        }
      ],
      "source": [
        "import altair as alt\n",
        "alt.data_transformers.disable_max_rows()\n",
        "alt.Chart(yes2).mark_bar(\n",
        "    \n",
        ").encode(\n",
        "    x=alt.X('age:N', axis=alt.Axis(labelFontSize=14, labelAngle=0)),\n",
        "    y=alt.Y('count()', title='Number of People'),\n",
        ").properties(\n",
        "    title=\"The age of the Client Aubscribed a Term Deposit\",\n",
        "    width=2000\n",
        ")"
      ]
    },
    {
      "cell_type": "code",
      "execution_count": 116,
      "metadata": {},
      "outputs": [
        {
          "data": {
            "text/plain": [
              "marital\n",
              "married     2295\n",
              "single      1465\n",
              "divorced     439\n",
              "unknown        9\n",
              "Name: count, dtype: int64"
            ]
          },
          "execution_count": 116,
          "metadata": {},
          "output_type": "execute_result"
        }
      ],
      "source": [
        "yes2['marital'].value_counts()"
      ]
    },
    {
      "cell_type": "code",
      "execution_count": 117,
      "metadata": {},
      "outputs": [
        {
          "ename": "ModuleNotFoundError",
          "evalue": "No module named 'altair'",
          "output_type": "error",
          "traceback": [
            "\u001b[0;31m--------------------------------------------------------------------------\u001b[0m",
            "\u001b[0;31mModuleNotFoundError\u001b[0m                      Traceback (most recent call last)",
            "Cell \u001b[0;32mIn[117], line 1\u001b[0m\n\u001b[0;32m----> 1\u001b[0m \u001b[39mimport\u001b[39;00m \u001b[39maltair\u001b[39;00m \u001b[39mas\u001b[39;00m \u001b[39malt\u001b[39;00m\n\u001b[1;32m      2\u001b[0m alt\u001b[39m.\u001b[39mdata_transformers\u001b[39m.\u001b[39mdisable_max_rows()\n\u001b[1;32m      3\u001b[0m alt\u001b[39m.\u001b[39mChart(yes2)\u001b[39m.\u001b[39mmark_bar(\n\u001b[1;32m      4\u001b[0m     \n\u001b[1;32m      5\u001b[0m )\u001b[39m.\u001b[39mencode(\n\u001b[0;32m   (...)\u001b[0m\n\u001b[1;32m     10\u001b[0m     width\u001b[39m=\u001b[39m\u001b[39m600\u001b[39m\n\u001b[1;32m     11\u001b[0m )\n",
            "\u001b[0;31mModuleNotFoundError\u001b[0m: No module named 'altair'"
          ]
        }
      ],
      "source": [
        "import altair as alt\n",
        "alt.data_transformers.disable_max_rows()\n",
        "alt.Chart(yes2).mark_bar(\n",
        "    \n",
        ").encode(\n",
        "    x=alt.X('marital:N', axis=alt.Axis(labelFontSize=14, labelAngle=0)),\n",
        "    y=alt.Y('count()', title='Number of People'),\n",
        ").properties(\n",
        "    title=\"The Marrige status of the Client Aubscribed a Term Deposit\",\n",
        "    width=600\n",
        ")"
      ]
    },
    {
      "cell_type": "code",
      "execution_count": 118,
      "metadata": {},
      "outputs": [
        {
          "data": {
            "text/plain": [
              "education\n",
              "university.degree      5762\n",
              "high.school            4639\n",
              "basic.9y               3736\n",
              "basic.4y               2893\n",
              "professional.course    2866\n",
              "basic.6y               1609\n",
              "unknown                 937\n",
              "illiterate               14\n",
              "Name: count, dtype: int64"
            ]
          },
          "execution_count": 118,
          "metadata": {},
          "output_type": "execute_result"
        }
      ],
      "source": [
        "yes3 = campaign[ campaign['y'] == 'yes']\n",
        "yes3 = campaign[ campaign['marital'] == 'married']\n",
        "yes3['education'].value_counts()"
      ]
    },
    {
      "cell_type": "code",
      "execution_count": 119,
      "metadata": {},
      "outputs": [
        {
          "ename": "ModuleNotFoundError",
          "evalue": "No module named 'altair'",
          "output_type": "error",
          "traceback": [
            "\u001b[0;31m--------------------------------------------------------------------------\u001b[0m",
            "\u001b[0;31mModuleNotFoundError\u001b[0m                      Traceback (most recent call last)",
            "Cell \u001b[0;32mIn[119], line 1\u001b[0m\n\u001b[0;32m----> 1\u001b[0m \u001b[39mimport\u001b[39;00m \u001b[39maltair\u001b[39;00m \u001b[39mas\u001b[39;00m \u001b[39malt\u001b[39;00m\n\u001b[1;32m      2\u001b[0m alt\u001b[39m.\u001b[39mdata_transformers\u001b[39m.\u001b[39mdisable_max_rows()\n\u001b[1;32m      3\u001b[0m alt\u001b[39m.\u001b[39mChart(yes3)\u001b[39m.\u001b[39mmark_bar(\n\u001b[1;32m      4\u001b[0m     \n\u001b[1;32m      5\u001b[0m )\u001b[39m.\u001b[39mencode(\n\u001b[0;32m   (...)\u001b[0m\n\u001b[1;32m     10\u001b[0m     width\u001b[39m=\u001b[39m\u001b[39m2000\u001b[39m\n\u001b[1;32m     11\u001b[0m )\n",
            "\u001b[0;31mModuleNotFoundError\u001b[0m: No module named 'altair'"
          ]
        }
      ],
      "source": [
        "import altair as alt\n",
        "alt.data_transformers.disable_max_rows()\n",
        "alt.Chart(yes3).mark_bar(\n",
        "    \n",
        ").encode(\n",
        "    x=alt.X('education:N', axis=alt.Axis(labelFontSize=14, labelAngle=0)),\n",
        "    y=alt.Y('count()', title='Number of People'),\n",
        ").properties(\n",
        "    title=\"The education status of the Client Aubscribed a Term Deposit\",\n",
        "    width=2000\n",
        ")"
      ]
    },
    {
      "cell_type": "code",
      "execution_count": 120,
      "metadata": {},
      "outputs": [
        {
          "data": {
            "text/plain": [
              "default\n",
              "no         9655\n",
              "unknown    1294\n",
              "Name: count, dtype: int64"
            ]
          },
          "execution_count": 120,
          "metadata": {},
          "output_type": "execute_result"
        }
      ],
      "source": [
        "yes3 = campaign[ campaign['education'] == 'university.degree']\n",
        "yes3['default'].value_counts()"
      ]
    },
    {
      "cell_type": "code",
      "execution_count": 121,
      "metadata": {},
      "outputs": [
        {
          "ename": "ModuleNotFoundError",
          "evalue": "No module named 'altair'",
          "output_type": "error",
          "traceback": [
            "\u001b[0;31m--------------------------------------------------------------------------\u001b[0m",
            "\u001b[0;31mModuleNotFoundError\u001b[0m                      Traceback (most recent call last)",
            "Cell \u001b[0;32mIn[121], line 1\u001b[0m\n\u001b[0;32m----> 1\u001b[0m \u001b[39mimport\u001b[39;00m \u001b[39maltair\u001b[39;00m \u001b[39mas\u001b[39;00m \u001b[39malt\u001b[39;00m\n\u001b[1;32m      2\u001b[0m alt\u001b[39m.\u001b[39mdata_transformers\u001b[39m.\u001b[39mdisable_max_rows()\n\u001b[1;32m      3\u001b[0m alt\u001b[39m.\u001b[39mChart(yes3)\u001b[39m.\u001b[39mmark_bar(\n\u001b[1;32m      4\u001b[0m     \n\u001b[1;32m      5\u001b[0m )\u001b[39m.\u001b[39mencode(\n\u001b[0;32m   (...)\u001b[0m\n\u001b[1;32m     10\u001b[0m     width\u001b[39m=\u001b[39m\u001b[39m2000\u001b[39m\n\u001b[1;32m     11\u001b[0m )\n",
            "\u001b[0;31mModuleNotFoundError\u001b[0m: No module named 'altair'"
          ]
        }
      ],
      "source": [
        "import altair as alt\n",
        "alt.data_transformers.disable_max_rows()\n",
        "alt.Chart(yes3).mark_bar(\n",
        "    \n",
        ").encode(\n",
        "    x=alt.X('default:N', axis=alt.Axis(labelFontSize=14, labelAngle=0)),\n",
        "    y=alt.Y('count()', title='Number of People'),\n",
        ").properties(\n",
        "    title=\"The default credit status of the Client Aubscribed a Term Deposit\",\n",
        "    width=2000\n",
        ")"
      ]
    },
    {
      "cell_type": "code",
      "execution_count": 122,
      "metadata": {},
      "outputs": [
        {
          "data": {
            "text/plain": [
              "housing\n",
              "yes        15530\n",
              "no         13124\n",
              "unknown      687\n",
              "Name: count, dtype: int64"
            ]
          },
          "execution_count": 122,
          "metadata": {},
          "output_type": "execute_result"
        }
      ],
      "source": [
        "yes3 = campaign[ campaign['default'] == 'no']\n",
        "yes3['housing'].value_counts()"
      ]
    },
    {
      "cell_type": "code",
      "execution_count": 123,
      "metadata": {},
      "outputs": [
        {
          "ename": "ModuleNotFoundError",
          "evalue": "No module named 'altair'",
          "output_type": "error",
          "traceback": [
            "\u001b[0;31m--------------------------------------------------------------------------\u001b[0m",
            "\u001b[0;31mModuleNotFoundError\u001b[0m                      Traceback (most recent call last)",
            "Cell \u001b[0;32mIn[123], line 1\u001b[0m\n\u001b[0;32m----> 1\u001b[0m \u001b[39mimport\u001b[39;00m \u001b[39maltair\u001b[39;00m \u001b[39mas\u001b[39;00m \u001b[39malt\u001b[39;00m\n\u001b[1;32m      2\u001b[0m alt\u001b[39m.\u001b[39mdata_transformers\u001b[39m.\u001b[39mdisable_max_rows()\n\u001b[1;32m      3\u001b[0m alt\u001b[39m.\u001b[39mChart(yes3)\u001b[39m.\u001b[39mmark_bar(\n\u001b[1;32m      4\u001b[0m     \n\u001b[1;32m      5\u001b[0m )\u001b[39m.\u001b[39mencode(\n\u001b[0;32m   (...)\u001b[0m\n\u001b[1;32m     10\u001b[0m     width\u001b[39m=\u001b[39m\u001b[39m2000\u001b[39m\n\u001b[1;32m     11\u001b[0m )\n",
            "\u001b[0;31mModuleNotFoundError\u001b[0m: No module named 'altair'"
          ]
        }
      ],
      "source": [
        "import altair as alt\n",
        "alt.data_transformers.disable_max_rows()\n",
        "alt.Chart(yes3).mark_bar(\n",
        "    \n",
        ").encode(\n",
        "    x=alt.X('housing:N', axis=alt.Axis(labelFontSize=14, labelAngle=0)),\n",
        "    y=alt.Y('count()', title='Number of People'),\n",
        ").properties(\n",
        "    title=\"The having house loan status of the Client Aubscribed a Term Deposit\",\n",
        "    width=2000\n",
        ")"
      ]
    },
    {
      "attachments": {},
      "cell_type": "markdown",
      "metadata": {},
      "source": [
        "#customers that are married, with a univercity degree, without default credit and having a house loan are more likely to subscribe to a term deposit"
      ]
    },
    {
      "cell_type": "code",
      "execution_count": 124,
      "metadata": {},
      "outputs": [
        {
          "data": {
            "text/plain": [
              "day_of_week\n",
              "thu    2291\n",
              "wed    2114\n",
              "mon    2070\n",
              "tue    1979\n",
              "fri    1956\n",
              "Name: count, dtype: int64"
            ]
          },
          "execution_count": 124,
          "metadata": {},
          "output_type": "execute_result"
        }
      ],
      "source": [
        "#Should we only call single people on Saturdays?\n",
        "import pandas as pd\n",
        "\n",
        "campaign = pd.read_csv('https://raw.githubusercontent.com/byui-cse/cse450-course/master/data/bank.csv')\n",
        "\n",
        "yes4 = campaign[ campaign['y'] == 'yes']\n",
        "yes4 = campaign[ campaign['marital'] == 'single']\n",
        "\n",
        "yes4['day_of_week'].value_counts()"
      ]
    },
    {
      "cell_type": "code",
      "execution_count": 125,
      "metadata": {},
      "outputs": [
        {
          "ename": "ModuleNotFoundError",
          "evalue": "No module named 'altair'",
          "output_type": "error",
          "traceback": [
            "\u001b[0;31m--------------------------------------------------------------------------\u001b[0m",
            "\u001b[0;31mModuleNotFoundError\u001b[0m                      Traceback (most recent call last)",
            "Cell \u001b[0;32mIn[125], line 1\u001b[0m\n\u001b[0;32m----> 1\u001b[0m \u001b[39mimport\u001b[39;00m \u001b[39maltair\u001b[39;00m \u001b[39mas\u001b[39;00m \u001b[39malt\u001b[39;00m\n\u001b[1;32m      2\u001b[0m alt\u001b[39m.\u001b[39mdata_transformers\u001b[39m.\u001b[39mdisable_max_rows()\n\u001b[1;32m      3\u001b[0m alt\u001b[39m.\u001b[39mChart(yes4)\u001b[39m.\u001b[39mmark_bar(\n\u001b[1;32m      4\u001b[0m     \n\u001b[1;32m      5\u001b[0m )\u001b[39m.\u001b[39mencode(\n\u001b[0;32m   (...)\u001b[0m\n\u001b[1;32m     10\u001b[0m     width\u001b[39m=\u001b[39m\u001b[39m2000\u001b[39m\n\u001b[1;32m     11\u001b[0m )\n",
            "\u001b[0;31mModuleNotFoundError\u001b[0m: No module named 'altair'"
          ]
        }
      ],
      "source": [
        "import altair as alt\n",
        "alt.data_transformers.disable_max_rows()\n",
        "alt.Chart(yes4).mark_bar(\n",
        "    \n",
        ").encode(\n",
        "    x=alt.X('day_of_week:N', axis=alt.Axis(labelFontSize=14, labelAngle=0)),\n",
        "    y=alt.Y('count()', title='Number of People'),\n",
        ").properties(\n",
        "    title=\"Day os the week that a single Aubscribed a Term Deposit\",\n",
        "    width=2000\n",
        ")"
      ]
    },
    {
      "cell_type": "code",
      "execution_count": null,
      "metadata": {},
      "outputs": [],
      "source": [
        "#No single person Aubscribed a Term Deposit on Saturday"
      ]
    }
  ],
  "metadata": {
    "colab": {
      "name": "starter_bank.ipynb",
      "provenance": []
    },
    "kernelspec": {
      "display_name": "Python 3 (ipykernel)",
      "language": "python",
      "name": "python3"
    },
    "language_info": {
      "codemirror_mode": {
        "name": "ipython",
        "version": 3
      },
      "file_extension": ".py",
      "mimetype": "text/x-python",
      "name": "python",
      "nbconvert_exporter": "python",
      "pygments_lexer": "ipython3",
      "version": "3.10.4"
    }
  },
  "nbformat": 4,
  "nbformat_minor": 0
}
