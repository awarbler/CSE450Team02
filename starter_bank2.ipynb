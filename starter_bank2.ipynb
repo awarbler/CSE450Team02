{
  "cells": [
    {
      "attachments": {},
      "cell_type": "markdown",
      "metadata": {},
      "source": [
        "# Goals \n",
        "1. the core task we're interested in is identifying those customers most likely to subscribe to a term deposit\n",
        "\n",
        " \n",
        "\n",
        "2. actionable patterns in data\n",
        "\n",
        " \n",
        "\n",
        "3. does frequent contact have an adverse effect\n",
        "\n",
        " \n",
        "\n",
        "4. seperate models for historic economic indicators\n",
        "\n",
        " \n",
        "\n",
        "5. the model should be saved to a file\n",
        "\n",
        " \n",
        "\n",
        "6. run the model on a different set of data and make target predictions"
      ]
    },
    {
      "cell_type": "code",
      "execution_count": 34,
      "metadata": {
        "id": "mA0HPVmIBT4C"
      },
      "outputs": [],
      "source": [
        "import pandas as pd\n",
        "import numpy as np\n",
        "from pathlib import Path\n",
        "import seaborn as sns\n",
        "import matplotlib.pyplot as plt\n",
        "from sklearn.metrics import confusion_matrix\n",
        "\n",
        "campaign = pd.read_csv('https://raw.githubusercontent.com/byui-cse/cse450-course/master/data/bank.csv')"
      ]
    },
    {
      "cell_type": "code",
      "execution_count": 18,
      "metadata": {
        "colab": {
          "base_uri": "https://localhost:8080/"
        },
        "id": "StiU5QcPPxqQ",
        "outputId": "88fbdacf-bb79-4146-8dc8-b6007d9ce53e"
      },
      "outputs": [
        {
          "data": {
            "text/plain": [
              "age                 int64\n",
              "job                object\n",
              "marital            object\n",
              "education          object\n",
              "default            object\n",
              "housing            object\n",
              "loan               object\n",
              "contact            object\n",
              "month              object\n",
              "day_of_week        object\n",
              "campaign            int64\n",
              "pdays               int64\n",
              "previous            int64\n",
              "poutcome           object\n",
              "emp.var.rate      float64\n",
              "cons.price.idx    float64\n",
              "cons.conf.idx     float64\n",
              "euribor3m         float64\n",
              "nr.employed       float64\n",
              "y                  object\n",
              "dtype: object"
            ]
          },
          "execution_count": 18,
          "metadata": {},
          "output_type": "execute_result"
        }
      ],
      "source": [
        "campaign.dtypes"
      ]
    },
    {
      "cell_type": "code",
      "execution_count": 19,
      "metadata": {},
      "outputs": [
        {
          "data": {
            "text/html": [
              "<div>\n",
              "<style scoped>\n",
              "    .dataframe tbody tr th:only-of-type {\n",
              "        vertical-align: middle;\n",
              "    }\n",
              "\n",
              "    .dataframe tbody tr th {\n",
              "        vertical-align: top;\n",
              "    }\n",
              "\n",
              "    .dataframe thead th {\n",
              "        text-align: right;\n",
              "    }\n",
              "</style>\n",
              "<table border=\"1\" class=\"dataframe\">\n",
              "  <thead>\n",
              "    <tr style=\"text-align: right;\">\n",
              "      <th></th>\n",
              "      <th>age</th>\n",
              "      <th>campaign</th>\n",
              "      <th>pdays</th>\n",
              "      <th>previous</th>\n",
              "      <th>emp.var.rate</th>\n",
              "      <th>cons.price.idx</th>\n",
              "      <th>cons.conf.idx</th>\n",
              "      <th>euribor3m</th>\n",
              "      <th>nr.employed</th>\n",
              "    </tr>\n",
              "  </thead>\n",
              "  <tbody>\n",
              "    <tr>\n",
              "      <th>count</th>\n",
              "      <td>37069.000000</td>\n",
              "      <td>37069.000000</td>\n",
              "      <td>37069.000000</td>\n",
              "      <td>37069.000000</td>\n",
              "      <td>37069.000000</td>\n",
              "      <td>37069.000000</td>\n",
              "      <td>37069.000000</td>\n",
              "      <td>37069.000000</td>\n",
              "      <td>37069.000000</td>\n",
              "    </tr>\n",
              "    <tr>\n",
              "      <th>mean</th>\n",
              "      <td>40.025493</td>\n",
              "      <td>2.564407</td>\n",
              "      <td>962.221803</td>\n",
              "      <td>0.173730</td>\n",
              "      <td>0.081526</td>\n",
              "      <td>93.576551</td>\n",
              "      <td>-40.494829</td>\n",
              "      <td>3.621945</td>\n",
              "      <td>5167.010650</td>\n",
              "    </tr>\n",
              "    <tr>\n",
              "      <th>std</th>\n",
              "      <td>10.435288</td>\n",
              "      <td>2.764084</td>\n",
              "      <td>187.531477</td>\n",
              "      <td>0.496159</td>\n",
              "      <td>1.572287</td>\n",
              "      <td>0.579339</td>\n",
              "      <td>4.628895</td>\n",
              "      <td>1.734496</td>\n",
              "      <td>72.294476</td>\n",
              "    </tr>\n",
              "    <tr>\n",
              "      <th>min</th>\n",
              "      <td>17.000000</td>\n",
              "      <td>1.000000</td>\n",
              "      <td>0.000000</td>\n",
              "      <td>0.000000</td>\n",
              "      <td>-3.400000</td>\n",
              "      <td>92.201000</td>\n",
              "      <td>-50.800000</td>\n",
              "      <td>0.634000</td>\n",
              "      <td>4963.600000</td>\n",
              "    </tr>\n",
              "    <tr>\n",
              "      <th>25%</th>\n",
              "      <td>32.000000</td>\n",
              "      <td>1.000000</td>\n",
              "      <td>999.000000</td>\n",
              "      <td>0.000000</td>\n",
              "      <td>-1.800000</td>\n",
              "      <td>93.075000</td>\n",
              "      <td>-42.700000</td>\n",
              "      <td>1.344000</td>\n",
              "      <td>5099.100000</td>\n",
              "    </tr>\n",
              "    <tr>\n",
              "      <th>50%</th>\n",
              "      <td>38.000000</td>\n",
              "      <td>2.000000</td>\n",
              "      <td>999.000000</td>\n",
              "      <td>0.000000</td>\n",
              "      <td>1.100000</td>\n",
              "      <td>93.749000</td>\n",
              "      <td>-41.800000</td>\n",
              "      <td>4.857000</td>\n",
              "      <td>5191.000000</td>\n",
              "    </tr>\n",
              "    <tr>\n",
              "      <th>75%</th>\n",
              "      <td>47.000000</td>\n",
              "      <td>3.000000</td>\n",
              "      <td>999.000000</td>\n",
              "      <td>0.000000</td>\n",
              "      <td>1.400000</td>\n",
              "      <td>93.994000</td>\n",
              "      <td>-36.400000</td>\n",
              "      <td>4.961000</td>\n",
              "      <td>5228.100000</td>\n",
              "    </tr>\n",
              "    <tr>\n",
              "      <th>max</th>\n",
              "      <td>98.000000</td>\n",
              "      <td>56.000000</td>\n",
              "      <td>999.000000</td>\n",
              "      <td>7.000000</td>\n",
              "      <td>1.400000</td>\n",
              "      <td>94.767000</td>\n",
              "      <td>-26.900000</td>\n",
              "      <td>5.045000</td>\n",
              "      <td>5228.100000</td>\n",
              "    </tr>\n",
              "  </tbody>\n",
              "</table>\n",
              "</div>"
            ],
            "text/plain": [
              "                age      campaign         pdays      previous  emp.var.rate   \n",
              "count  37069.000000  37069.000000  37069.000000  37069.000000  37069.000000  \\\n",
              "mean      40.025493      2.564407    962.221803      0.173730      0.081526   \n",
              "std       10.435288      2.764084    187.531477      0.496159      1.572287   \n",
              "min       17.000000      1.000000      0.000000      0.000000     -3.400000   \n",
              "25%       32.000000      1.000000    999.000000      0.000000     -1.800000   \n",
              "50%       38.000000      2.000000    999.000000      0.000000      1.100000   \n",
              "75%       47.000000      3.000000    999.000000      0.000000      1.400000   \n",
              "max       98.000000     56.000000    999.000000      7.000000      1.400000   \n",
              "\n",
              "       cons.price.idx  cons.conf.idx     euribor3m   nr.employed  \n",
              "count    37069.000000   37069.000000  37069.000000  37069.000000  \n",
              "mean        93.576551     -40.494829      3.621945   5167.010650  \n",
              "std          0.579339       4.628895      1.734496     72.294476  \n",
              "min         92.201000     -50.800000      0.634000   4963.600000  \n",
              "25%         93.075000     -42.700000      1.344000   5099.100000  \n",
              "50%         93.749000     -41.800000      4.857000   5191.000000  \n",
              "75%         93.994000     -36.400000      4.961000   5228.100000  \n",
              "max         94.767000     -26.900000      5.045000   5228.100000  "
            ]
          },
          "execution_count": 19,
          "metadata": {},
          "output_type": "execute_result"
        }
      ],
      "source": [
        "campaign.describe()"
      ]
    },
    {
      "cell_type": "code",
      "execution_count": 20,
      "metadata": {},
      "outputs": [
        {
          "name": "stdout",
          "output_type": "stream",
          "text": [
            "(37069, 20)\n",
            "Index(['age', 'job', 'marital', 'education', 'default', 'housing', 'loan',\n",
            "       'contact', 'month', 'day_of_week', 'campaign', 'pdays', 'previous',\n",
            "       'poutcome', 'emp.var.rate', 'cons.price.idx', 'cons.conf.idx',\n",
            "       'euribor3m', 'nr.employed', 'y'],\n",
            "      dtype='object')\n"
          ]
        },
        {
          "data": {
            "text/html": [
              "<div>\n",
              "<style scoped>\n",
              "    .dataframe tbody tr th:only-of-type {\n",
              "        vertical-align: middle;\n",
              "    }\n",
              "\n",
              "    .dataframe tbody tr th {\n",
              "        vertical-align: top;\n",
              "    }\n",
              "\n",
              "    .dataframe thead th {\n",
              "        text-align: right;\n",
              "    }\n",
              "</style>\n",
              "<table border=\"1\" class=\"dataframe\">\n",
              "  <thead>\n",
              "    <tr style=\"text-align: right;\">\n",
              "      <th></th>\n",
              "      <th>age</th>\n",
              "      <th>job</th>\n",
              "      <th>marital</th>\n",
              "      <th>education</th>\n",
              "      <th>default</th>\n",
              "      <th>housing</th>\n",
              "      <th>loan</th>\n",
              "      <th>contact</th>\n",
              "      <th>month</th>\n",
              "      <th>day_of_week</th>\n",
              "      <th>campaign</th>\n",
              "      <th>pdays</th>\n",
              "      <th>previous</th>\n",
              "      <th>poutcome</th>\n",
              "      <th>emp.var.rate</th>\n",
              "      <th>cons.price.idx</th>\n",
              "      <th>cons.conf.idx</th>\n",
              "      <th>euribor3m</th>\n",
              "      <th>nr.employed</th>\n",
              "      <th>y</th>\n",
              "    </tr>\n",
              "  </thead>\n",
              "  <tbody>\n",
              "    <tr>\n",
              "      <th>0</th>\n",
              "      <td>56</td>\n",
              "      <td>housemaid</td>\n",
              "      <td>married</td>\n",
              "      <td>basic.4y</td>\n",
              "      <td>no</td>\n",
              "      <td>no</td>\n",
              "      <td>no</td>\n",
              "      <td>telephone</td>\n",
              "      <td>may</td>\n",
              "      <td>mon</td>\n",
              "      <td>1</td>\n",
              "      <td>999</td>\n",
              "      <td>0</td>\n",
              "      <td>nonexistent</td>\n",
              "      <td>1.1</td>\n",
              "      <td>93.994</td>\n",
              "      <td>-36.4</td>\n",
              "      <td>4.857</td>\n",
              "      <td>5191.0</td>\n",
              "      <td>no</td>\n",
              "    </tr>\n",
              "    <tr>\n",
              "      <th>1</th>\n",
              "      <td>57</td>\n",
              "      <td>services</td>\n",
              "      <td>married</td>\n",
              "      <td>high.school</td>\n",
              "      <td>unknown</td>\n",
              "      <td>no</td>\n",
              "      <td>no</td>\n",
              "      <td>telephone</td>\n",
              "      <td>may</td>\n",
              "      <td>mon</td>\n",
              "      <td>1</td>\n",
              "      <td>999</td>\n",
              "      <td>0</td>\n",
              "      <td>nonexistent</td>\n",
              "      <td>1.1</td>\n",
              "      <td>93.994</td>\n",
              "      <td>-36.4</td>\n",
              "      <td>4.857</td>\n",
              "      <td>5191.0</td>\n",
              "      <td>no</td>\n",
              "    </tr>\n",
              "    <tr>\n",
              "      <th>2</th>\n",
              "      <td>37</td>\n",
              "      <td>services</td>\n",
              "      <td>married</td>\n",
              "      <td>high.school</td>\n",
              "      <td>no</td>\n",
              "      <td>yes</td>\n",
              "      <td>no</td>\n",
              "      <td>telephone</td>\n",
              "      <td>may</td>\n",
              "      <td>mon</td>\n",
              "      <td>1</td>\n",
              "      <td>999</td>\n",
              "      <td>0</td>\n",
              "      <td>nonexistent</td>\n",
              "      <td>1.1</td>\n",
              "      <td>93.994</td>\n",
              "      <td>-36.4</td>\n",
              "      <td>4.857</td>\n",
              "      <td>5191.0</td>\n",
              "      <td>no</td>\n",
              "    </tr>\n",
              "    <tr>\n",
              "      <th>3</th>\n",
              "      <td>40</td>\n",
              "      <td>admin.</td>\n",
              "      <td>married</td>\n",
              "      <td>basic.6y</td>\n",
              "      <td>no</td>\n",
              "      <td>no</td>\n",
              "      <td>no</td>\n",
              "      <td>telephone</td>\n",
              "      <td>may</td>\n",
              "      <td>mon</td>\n",
              "      <td>1</td>\n",
              "      <td>999</td>\n",
              "      <td>0</td>\n",
              "      <td>nonexistent</td>\n",
              "      <td>1.1</td>\n",
              "      <td>93.994</td>\n",
              "      <td>-36.4</td>\n",
              "      <td>4.857</td>\n",
              "      <td>5191.0</td>\n",
              "      <td>no</td>\n",
              "    </tr>\n",
              "    <tr>\n",
              "      <th>4</th>\n",
              "      <td>56</td>\n",
              "      <td>services</td>\n",
              "      <td>married</td>\n",
              "      <td>high.school</td>\n",
              "      <td>no</td>\n",
              "      <td>no</td>\n",
              "      <td>yes</td>\n",
              "      <td>telephone</td>\n",
              "      <td>may</td>\n",
              "      <td>mon</td>\n",
              "      <td>1</td>\n",
              "      <td>999</td>\n",
              "      <td>0</td>\n",
              "      <td>nonexistent</td>\n",
              "      <td>1.1</td>\n",
              "      <td>93.994</td>\n",
              "      <td>-36.4</td>\n",
              "      <td>4.857</td>\n",
              "      <td>5191.0</td>\n",
              "      <td>no</td>\n",
              "    </tr>\n",
              "  </tbody>\n",
              "</table>\n",
              "</div>"
            ],
            "text/plain": [
              "   age        job  marital    education  default housing loan    contact   \n",
              "0   56  housemaid  married     basic.4y       no      no   no  telephone  \\\n",
              "1   57   services  married  high.school  unknown      no   no  telephone   \n",
              "2   37   services  married  high.school       no     yes   no  telephone   \n",
              "3   40     admin.  married     basic.6y       no      no   no  telephone   \n",
              "4   56   services  married  high.school       no      no  yes  telephone   \n",
              "\n",
              "  month day_of_week  campaign  pdays  previous     poutcome  emp.var.rate   \n",
              "0   may         mon         1    999         0  nonexistent           1.1  \\\n",
              "1   may         mon         1    999         0  nonexistent           1.1   \n",
              "2   may         mon         1    999         0  nonexistent           1.1   \n",
              "3   may         mon         1    999         0  nonexistent           1.1   \n",
              "4   may         mon         1    999         0  nonexistent           1.1   \n",
              "\n",
              "   cons.price.idx  cons.conf.idx  euribor3m  nr.employed   y  \n",
              "0          93.994          -36.4      4.857       5191.0  no  \n",
              "1          93.994          -36.4      4.857       5191.0  no  \n",
              "2          93.994          -36.4      4.857       5191.0  no  \n",
              "3          93.994          -36.4      4.857       5191.0  no  \n",
              "4          93.994          -36.4      4.857       5191.0  no  "
            ]
          },
          "execution_count": 20,
          "metadata": {},
          "output_type": "execute_result"
        }
      ],
      "source": [
        "print(campaign.shape) # prints data shape - returns the row and column count of a dataset\n",
        "print(campaign.columns) # print columns\n",
        "campaign.head()"
      ]
    },
    {
      "cell_type": "code",
      "execution_count": 24,
      "metadata": {},
      "outputs": [
        {
          "name": "stdout",
          "output_type": "stream",
          "text": [
            "Job:\n",
            "job\n",
            "admin.           9400\n",
            "blue-collar      8329\n",
            "technician       6066\n",
            "services         3548\n",
            "management       2648\n",
            "retired          1534\n",
            "entrepreneur     1308\n",
            "self-employed    1274\n",
            "housemaid         962\n",
            "unemployed        913\n",
            "student           793\n",
            "unknown           294\n",
            "Name: count, dtype: int64\n",
            "----------------------------------------\n",
            "Marital:\n",
            "marital\n",
            "married     22456\n",
            "single      10410\n",
            "divorced     4134\n",
            "unknown        69\n",
            "Name: count, dtype: int64\n",
            "----------------------------------------\n",
            "Education:\n",
            "education\n",
            "university.degree      10949\n",
            "high.school             8554\n",
            "basic.9y                5427\n",
            "professional.course     4742\n",
            "basic.4y                3764\n",
            "basic.6y                2082\n",
            "unknown                 1535\n",
            "illiterate                16\n",
            "Name: count, dtype: int64\n",
            "----------------------------------------\n",
            "Default:\n",
            "default\n",
            "no         29341\n",
            "unknown     7725\n",
            "yes            3\n",
            "Name: count, dtype: int64\n",
            "----------------------------------------\n",
            "Housing loan:\n",
            "housing\n",
            "yes        19474\n",
            "no         16701\n",
            "unknown      894\n",
            "Name: count, dtype: int64\n",
            "----------------------------------------\n",
            "Personal loan:\n",
            "loan\n",
            "no         30590\n",
            "yes         5585\n",
            "unknown      894\n",
            "Name: count, dtype: int64\n",
            "----------------------------------------\n",
            "Contact:\n",
            "contact\n",
            "cellular     23515\n",
            "telephone    13554\n",
            "Name: count, dtype: int64\n",
            "----------------------------------------\n",
            "Month:\n",
            "month\n",
            "may    12370\n",
            "jul     6445\n",
            "aug     5555\n",
            "jun     4817\n",
            "nov     3698\n",
            "apr     2369\n",
            "oct      653\n",
            "sep      508\n",
            "mar      496\n",
            "dec      158\n",
            "Name: count, dtype: int64\n",
            "----------------------------------------\n",
            "Day:\n",
            "day_of_week\n",
            "thu    7742\n",
            "mon    7657\n",
            "wed    7347\n",
            "tue    7287\n",
            "fri    7036\n",
            "Name: count, dtype: int64\n",
            "----------------------------------------\n",
            "Previous outcome:\n",
            "poutcome\n",
            "nonexistent    31988\n",
            "failure         3843\n",
            "success         1238\n",
            "Name: count, dtype: int64\n",
            "----------------------------------------\n",
            "Outcome of this campaign:\n",
            "y\n",
            "no     32861\n",
            "yes     4208\n",
            "Name: count, dtype: int64\n",
            "----------------------------------------\n"
          ]
        }
      ],
      "source": [
        "#Checking out the categories and their respective counts in each feature\n",
        "print(\"Job:\",campaign.job.value_counts(),sep = '\\n')\n",
        "print(\"-\"*40)\n",
        "print(\"Marital:\",campaign.marital.value_counts(),sep = '\\n')\n",
        "print(\"-\"*40)\n",
        "print(\"Education:\",campaign.education.value_counts(),sep = '\\n')\n",
        "print(\"-\"*40)\n",
        "print(\"Default:\",campaign.default.value_counts(),sep = '\\n')\n",
        "print(\"-\"*40)\n",
        "print(\"Housing loan:\",campaign.housing.value_counts(),sep = '\\n')\n",
        "print(\"-\"*40)\n",
        "print(\"Personal loan:\",campaign.loan.value_counts(),sep = '\\n')\n",
        "print(\"-\"*40)\n",
        "print(\"Contact:\",campaign.contact.value_counts(),sep = '\\n')\n",
        "print(\"-\"*40)\n",
        "print(\"Month:\",campaign.month.value_counts(),sep = '\\n')\n",
        "print(\"-\"*40)\n",
        "print(\"Day:\",campaign.day_of_week.value_counts(),sep = '\\n')\n",
        "print(\"-\"*40)\n",
        "print(\"Previous outcome:\",campaign.poutcome.value_counts(),sep = '\\n')\n",
        "print(\"-\"*40)\n",
        "print(\"Outcome of this campaign:\",campaign.y.value_counts(),sep = '\\n')\n",
        "print(\"-\"*40)"
      ]
    },
    {
      "cell_type": "code",
      "execution_count": 30,
      "metadata": {},
      "outputs": [
        {
          "data": {
            "text/plain": [
              "y\n",
              "no     32861\n",
              "yes     4208\n",
              "Name: count, dtype: int64"
            ]
          },
          "execution_count": 30,
          "metadata": {},
          "output_type": "execute_result"
        }
      ],
      "source": [
        "# count all y \n",
        "campaign['y'].value_counts()"
      ]
    },
    {
      "cell_type": "code",
      "execution_count": 32,
      "metadata": {},
      "outputs": [
        {
          "data": {
            "text/plain": [
              "y\n",
              "no     0.886482\n",
              "yes    0.113518\n",
              "Name: count, dtype: float64"
            ]
          },
          "execution_count": 32,
          "metadata": {},
          "output_type": "execute_result"
        }
      ],
      "source": [
        "# \n",
        "campaign[\"y\"].value_counts()/len(campaign.y)"
      ]
    },
    {
      "attachments": {},
      "cell_type": "markdown",
      "metadata": {},
      "source": [
        "I think we may want to normalize the information "
      ]
    },
    {
      "cell_type": "code",
      "execution_count": 33,
      "metadata": {
        "colab": {
          "base_uri": "https://localhost:8080/"
        },
        "id": "RnGBwGVZPyyh",
        "outputId": "f3310480-f79b-4a93-f316-b421f5b3253a"
      },
      "outputs": [
        {
          "data": {
            "text/plain": [
              "day_of_week\n",
              "thu    958\n",
              "wed    865\n",
              "tue    857\n",
              "fri    767\n",
              "mon    761\n",
              "Name: count, dtype: int64"
            ]
          },
          "execution_count": 33,
          "metadata": {},
          "output_type": "execute_result"
        }
      ],
      "source": [
        "yes = campaign[ campaign['y'] == 'yes']\n",
        "yes['day_of_week'].value_counts()"
      ]
    },
    {
      "cell_type": "code",
      "execution_count": 17,
      "metadata": {
        "id": "7qsdd6yjcCAQ"
      },
      "outputs": [],
      "source": [
        "campaign.replace({'no':0,'yes':1},inplace=True)"
      ]
    },
    {
      "cell_type": "code",
      "execution_count": 18,
      "metadata": {
        "colab": {
          "base_uri": "https://localhost:8080/"
        },
        "id": "CVSfaqgKPzE2",
        "outputId": "308b5096-be79-4b05-b7a1-7a75f294016b"
      },
      "outputs": [
        {
          "data": {
            "text/plain": [
              "'import altair as alt\\n\\nday = campaign.groupby([\"day_of_week\",\"y\"])[\"day_of_week\"].count()\\nday.head(15)\\n\\nalt.Chart(day).mark_bar().transform_calculate().encode(\\n    alt.X(\\'y:N\\', title=\\'Survived\\', axis=alt.Axis(labelFontSize=14, labelAngle=0)),\\n    alt.Y(\\'\\', title=\\'Total Survivors\\'),\\n    column=alt.Column(\\'day_of_week:N\\', title=None)\\n).properties(\\n    title=\\'How Did Passenger Gender Affect Survival\\',\\n    width=100\\n)'"
            ]
          },
          "execution_count": 18,
          "metadata": {},
          "output_type": "execute_result"
        }
      ],
      "source": [
        "from typing_extensions import dataclass_transform\n",
        "'''import altair as alt\n",
        "\n",
        "day = campaign.groupby([\"day_of_week\",\"y\"])[\"day_of_week\"].count()\n",
        "day.head(15)\n",
        "\n",
        "alt.Chart(day).mark_bar().transform_calculate().encode(\n",
        "    alt.X('y:N', title='Survived', axis=alt.Axis(labelFontSize=14, labelAngle=0)),\n",
        "    alt.Y('', title='Total Survivors'),\n",
        "    column=alt.Column('day_of_week:N', title=None)\n",
        ").properties(\n",
        "    title='How Did Passenger Gender Affect Survival',\n",
        "    width=100\n",
        ")'''"
      ]
    },
    {
      "cell_type": "code",
      "execution_count": 19,
      "metadata": {},
      "outputs": [
        {
          "data": {
            "text/plain": [
              "age                  0\n",
              "job                294\n",
              "marital             69\n",
              "education         1535\n",
              "default           7725\n",
              "housing            894\n",
              "loan               894\n",
              "contact              0\n",
              "month                0\n",
              "day_of_week          0\n",
              "campaign             0\n",
              "pdays                0\n",
              "previous             0\n",
              "poutcome             0\n",
              "emp.var.rate         0\n",
              "cons.price.idx       0\n",
              "cons.conf.idx        0\n",
              "euribor3m            0\n",
              "nr.employed          0\n",
              "y                    0\n",
              "dtype: int64"
            ]
          },
          "execution_count": 19,
          "metadata": {},
          "output_type": "execute_result"
        }
      ],
      "source": [
        "check = campaign[[\"default\", \"housing\", \"loan\"]]\n",
        "check.apply(pd.Series.value_counts)\n",
        "campaign = campaign.replace(\"unknown\", np.nan)\n",
        "#(campaign==np.nan).sum()\n",
        "campaign.isna().sum()"
      ]
    },
    {
      "cell_type": "code",
      "execution_count": 20,
      "metadata": {},
      "outputs": [
        {
          "data": {
            "text/plain": [
              "age                 int64\n",
              "job                object\n",
              "marital            object\n",
              "education          object\n",
              "housing           float64\n",
              "loan              float64\n",
              "contact            object\n",
              "month              object\n",
              "day_of_week        object\n",
              "campaign            int64\n",
              "pdays               int64\n",
              "previous            int64\n",
              "emp.var.rate      float64\n",
              "cons.price.idx    float64\n",
              "cons.conf.idx     float64\n",
              "euribor3m         float64\n",
              "nr.employed       float64\n",
              "y                   int64\n",
              "dtype: object"
            ]
          },
          "execution_count": 20,
          "metadata": {},
          "output_type": "execute_result"
        }
      ],
      "source": [
        "# both default and poutcome have so little useable data in comparison to missing data or such a poor balance of values that I don't think they are worth using in training.\n",
        "campaign = campaign.drop([\"default\", \"poutcome\"], axis=1)\n",
        "campaign[\"housing\"] = campaign[\"housing\"].astype(float)\n",
        "campaign[\"loan\"] = campaign[\"loan\"].astype(float)\n",
        "campaign.dtypes"
      ]
    },
    {
      "cell_type": "code",
      "execution_count": 21,
      "metadata": {},
      "outputs": [],
      "source": [
        "\n",
        "campaign[\"education\"]=campaign[\"education\"].replace([\"illiterate\",\"basic.4y\",\"basic.6y\",\"basic.9y\",\"high.school\",\"professional.course\",\"university.degree\"],[1,2,3,4,5,6,7])\n",
        "campaign[\"education\"].value_counts()\n",
        "campaign = pd.get_dummies(campaign,prefix=[\"job\"],columns=[\"job\"])\n",
        "campaign = pd.get_dummies(campaign,prefix=[\"marital\"],columns=[\"marital\"])\n",
        "campaign = pd.get_dummies(campaign,prefix=[\"contact\"],columns=[\"contact\"])\n",
        "#campaign[\"job\"] = campaign[\"job\"].replace([\"unemployed\",\"student\",\"services\",\"housemaid\",\"blue-collar\",\"technician\",\"admin.\",\"management\",\"self-employed\",\"entrepreneur\",\"retired\"],[0,1,2,3,4,5,6,7,8,9,10])\n",
        "#campaign[\"job\"].value_counts()\n"
      ]
    },
    {
      "cell_type": "code",
      "execution_count": 22,
      "metadata": {},
      "outputs": [
        {
          "name": "stdout",
          "output_type": "stream",
          "text": [
            "day_of_week\n",
            "4    7742\n",
            "1    7657\n",
            "3    7347\n",
            "2    7287\n",
            "5    7036\n",
            "Name: count, dtype: int64\n",
            "month\n",
            "5     12370\n",
            "7      6445\n",
            "8      5555\n",
            "6      4817\n",
            "11     3698\n",
            "4      2369\n",
            "10      653\n",
            "9       508\n",
            "3       496\n",
            "12      158\n",
            "Name: count, dtype: int64\n"
          ]
        }
      ],
      "source": [
        "campaign['day_of_week'] = campaign['day_of_week'].replace([\"mon\",\"tue\",\"wed\",\"thu\",\"fri\"],[1,2,3,4,5]) \n",
        "campaign['month'] = campaign['month'].replace([\"jan\",\"feb\",\"mar\",\"apr\", \"may\",\"jun\", \"jul\", \"aug\", \"sep\", \"oct\", \"nov\", \"dec\"],[1,2,3,4,5,6,7,8,9,10,11,12]) \n",
        "print(campaign['day_of_week'].value_counts())\n",
        "print(campaign['month'].value_counts())\n"
      ]
    },
    {
      "cell_type": "code",
      "execution_count": 23,
      "metadata": {},
      "outputs": [
        {
          "data": {
            "text/plain": [
              "age                    int64\n",
              "education            float64\n",
              "housing              float64\n",
              "loan                 float64\n",
              "month                  int64\n",
              "day_of_week            int64\n",
              "campaign               int64\n",
              "pdays                  int64\n",
              "previous               int64\n",
              "emp.var.rate         float64\n",
              "cons.price.idx       float64\n",
              "cons.conf.idx        float64\n",
              "euribor3m            float64\n",
              "nr.employed          float64\n",
              "y                      int64\n",
              "job_admin.              bool\n",
              "job_blue-collar         bool\n",
              "job_entrepreneur        bool\n",
              "job_housemaid           bool\n",
              "job_management          bool\n",
              "job_retired             bool\n",
              "job_self-employed       bool\n",
              "job_services            bool\n",
              "job_student             bool\n",
              "job_technician          bool\n",
              "job_unemployed          bool\n",
              "marital_divorced        bool\n",
              "marital_married         bool\n",
              "marital_single          bool\n",
              "contact_cellular        bool\n",
              "contact_telephone       bool\n",
              "dtype: object"
            ]
          },
          "execution_count": 23,
          "metadata": {},
          "output_type": "execute_result"
        }
      ],
      "source": [
        "campaign.dtypes"
      ]
    },
    {
      "cell_type": "code",
      "execution_count": 24,
      "metadata": {},
      "outputs": [
        {
          "data": {
            "text/plain": [
              "age                  0\n",
              "education            0\n",
              "housing              0\n",
              "loan                 0\n",
              "month                0\n",
              "day_of_week          0\n",
              "campaign             0\n",
              "pdays                0\n",
              "previous             0\n",
              "emp.var.rate         0\n",
              "cons.price.idx       0\n",
              "cons.conf.idx        0\n",
              "euribor3m            0\n",
              "nr.employed          0\n",
              "y                    0\n",
              "job_admin.           0\n",
              "job_blue-collar      0\n",
              "job_entrepreneur     0\n",
              "job_housemaid        0\n",
              "job_management       0\n",
              "job_retired          0\n",
              "job_self-employed    0\n",
              "job_services         0\n",
              "job_student          0\n",
              "job_technician       0\n",
              "job_unemployed       0\n",
              "marital_divorced     0\n",
              "marital_married      0\n",
              "marital_single       0\n",
              "contact_cellular     0\n",
              "contact_telephone    0\n",
              "dtype: int64"
            ]
          },
          "execution_count": 24,
          "metadata": {},
          "output_type": "execute_result"
        }
      ],
      "source": [
        "from sklearn.impute import SimpleImputer\n",
        "imp_mean = SimpleImputer(missing_values=np.nan, strategy='median')\n",
        "imp_mean.fit(campaign[['loan','housing']])\n",
        "campaign[['loan','housing']] = imp_mean.transform(campaign[['loan','housing']])\n",
        "imp_mode = SimpleImputer(missing_values=np.nan, strategy='most_frequent')\n",
        "imp_mode.fit(campaign[[\"education\"]])\n",
        "campaign[[\"education\"]] = imp_mode.transform(campaign[[\"education\"]])\n",
        "campaign.isna().sum()"
      ]
    },
    {
      "cell_type": "code",
      "execution_count": 26,
      "metadata": {},
      "outputs": [
        {
          "data": {
            "text/plain": [
              "0.8406618109882205"
            ]
          },
          "execution_count": 26,
          "metadata": {},
          "output_type": "execute_result"
        }
      ],
      "source": [
        "from sklearn import tree\n",
        "from sklearn.tree import DecisionTreeClassifier\n",
        "from sklearn.preprocessing import OneHotEncoder\n",
        "from sklearn.model_selection import train_test_split\n",
        "\n",
        "# Encode our features and target as needed\n",
        "features = [\"age\",\n",
        "\"education\",\n",
        "\"housing\",\n",
        "\"loan\",\n",
        "\"month\",\n",
        "\"day_of_week\",\n",
        "\"campaign\",\n",
        "\"pdays\",\n",
        "\"emp.var.rate\",\n",
        "\"cons.price.idx\",\n",
        "\"cons.conf.idx\",\n",
        "\"euribor3m\",\n",
        "\"nr.employed\",\n",
        "\"job_admin.\",\n",
        "\"job_blue-collar\",\n",
        "\"job_entrepreneur\",\n",
        "\"job_housemaid\",\n",
        "\"job_management\",\n",
        "\"job_retired\",\n",
        "\"job_self-employed\",\n",
        "\"job_services\",\n",
        "\"job_student\",\n",
        "\"job_technician\",\n",
        "\"job_unemployed\",\n",
        "\"marital_divorced\",\n",
        "\"marital_married\",\n",
        "\"marital_single\",\n",
        "\"contact_cellular\",\n",
        "\"contact_telephone\"]\n",
        "X = pd.get_dummies(campaign[features], drop_first=True)\n",
        "y = campaign['y']\n",
        "\n",
        "# Split our data into training and test data, with 30% reserved for testing\n",
        "X_train, X_test, y_train, y_test = train_test_split(X, y, test_size=0.30)\n",
        "\n",
        "# Build the decision tree\n",
        "clf = DecisionTreeClassifier()\n",
        "\n",
        "# Train it\n",
        "clf.fit(X_train, y_train)\n",
        "\n",
        "# Test it \n",
        "clf.score(X_test, y_test)"
      ]
    },
    {
      "cell_type": "code",
      "execution_count": 37,
      "metadata": {},
      "outputs": [],
      "source": [
        "import pickle\n",
        "s = pickle.dumps(clf)\n",
        "clf2 = pickle.loads(s)"
      ]
    },
    {
      "cell_type": "code",
      "execution_count": 38,
      "metadata": {},
      "outputs": [
        {
          "ename": "ValueError",
          "evalue": "The feature names should match those that were passed during fit.\nFeature names unseen at fit time:\n- previous\n",
          "output_type": "error",
          "traceback": [
            "\u001b[0;31m---------------------------------------------------------------------------\u001b[0m",
            "\u001b[0;31mValueError\u001b[0m                                Traceback (most recent call last)",
            "Cell \u001b[0;32mIn[38], line 28\u001b[0m\n\u001b[1;32m     25\u001b[0m imp_mode\u001b[39m.\u001b[39mfit(campaign[[\u001b[39m\"\u001b[39m\u001b[39meducation\u001b[39m\u001b[39m\"\u001b[39m]])\n\u001b[1;32m     26\u001b[0m campaign[[\u001b[39m\"\u001b[39m\u001b[39meducation\u001b[39m\u001b[39m\"\u001b[39m]] \u001b[39m=\u001b[39m imp_mode\u001b[39m.\u001b[39mtransform(campaign[[\u001b[39m\"\u001b[39m\u001b[39meducation\u001b[39m\u001b[39m\"\u001b[39m]])\n\u001b[0;32m---> 28\u001b[0m clf2\u001b[39m.\u001b[39;49mpredict(campaign)\n",
            "File \u001b[0;32m~/.local/lib/python3.10/site-packages/sklearn/tree/_classes.py:426\u001b[0m, in \u001b[0;36mBaseDecisionTree.predict\u001b[0;34m(self, X, check_input)\u001b[0m\n\u001b[1;32m    403\u001b[0m \u001b[39m\u001b[39m\u001b[39m\"\"\"Predict class or regression value for X.\u001b[39;00m\n\u001b[1;32m    404\u001b[0m \n\u001b[1;32m    405\u001b[0m \u001b[39mFor a classification model, the predicted class for each sample in X is\u001b[39;00m\n\u001b[0;32m   (...)\u001b[0m\n\u001b[1;32m    423\u001b[0m \u001b[39m    The predicted classes, or the predict values.\u001b[39;00m\n\u001b[1;32m    424\u001b[0m \u001b[39m\"\"\"\u001b[39;00m\n\u001b[1;32m    425\u001b[0m check_is_fitted(\u001b[39mself\u001b[39m)\n\u001b[0;32m--> 426\u001b[0m X \u001b[39m=\u001b[39m \u001b[39mself\u001b[39;49m\u001b[39m.\u001b[39;49m_validate_X_predict(X, check_input)\n\u001b[1;32m    427\u001b[0m proba \u001b[39m=\u001b[39m \u001b[39mself\u001b[39m\u001b[39m.\u001b[39mtree_\u001b[39m.\u001b[39mpredict(X)\n\u001b[1;32m    428\u001b[0m n_samples \u001b[39m=\u001b[39m X\u001b[39m.\u001b[39mshape[\u001b[39m0\u001b[39m]\n",
            "File \u001b[0;32m~/.local/lib/python3.10/site-packages/sklearn/tree/_classes.py:392\u001b[0m, in \u001b[0;36mBaseDecisionTree._validate_X_predict\u001b[0;34m(self, X, check_input)\u001b[0m\n\u001b[1;32m    390\u001b[0m \u001b[39m\u001b[39m\u001b[39m\"\"\"Validate the training data on predict (probabilities).\"\"\"\u001b[39;00m\n\u001b[1;32m    391\u001b[0m \u001b[39mif\u001b[39;00m check_input:\n\u001b[0;32m--> 392\u001b[0m     X \u001b[39m=\u001b[39m \u001b[39mself\u001b[39;49m\u001b[39m.\u001b[39;49m_validate_data(X, dtype\u001b[39m=\u001b[39;49mDTYPE, accept_sparse\u001b[39m=\u001b[39;49m\u001b[39m\"\u001b[39;49m\u001b[39mcsr\u001b[39;49m\u001b[39m\"\u001b[39;49m, reset\u001b[39m=\u001b[39;49m\u001b[39mFalse\u001b[39;49;00m)\n\u001b[1;32m    393\u001b[0m     \u001b[39mif\u001b[39;00m issparse(X) \u001b[39mand\u001b[39;00m (\n\u001b[1;32m    394\u001b[0m         X\u001b[39m.\u001b[39mindices\u001b[39m.\u001b[39mdtype \u001b[39m!=\u001b[39m np\u001b[39m.\u001b[39mintc \u001b[39mor\u001b[39;00m X\u001b[39m.\u001b[39mindptr\u001b[39m.\u001b[39mdtype \u001b[39m!=\u001b[39m np\u001b[39m.\u001b[39mintc\n\u001b[1;32m    395\u001b[0m     ):\n\u001b[1;32m    396\u001b[0m         \u001b[39mraise\u001b[39;00m \u001b[39mValueError\u001b[39;00m(\u001b[39m\"\u001b[39m\u001b[39mNo support for np.int64 index based sparse matrices\u001b[39m\u001b[39m\"\u001b[39m)\n",
            "File \u001b[0;32m~/.local/lib/python3.10/site-packages/sklearn/base.py:548\u001b[0m, in \u001b[0;36mBaseEstimator._validate_data\u001b[0;34m(self, X, y, reset, validate_separately, **check_params)\u001b[0m\n\u001b[1;32m    483\u001b[0m \u001b[39mdef\u001b[39;00m \u001b[39m_validate_data\u001b[39m(\n\u001b[1;32m    484\u001b[0m     \u001b[39mself\u001b[39m,\n\u001b[1;32m    485\u001b[0m     X\u001b[39m=\u001b[39m\u001b[39m\"\u001b[39m\u001b[39mno_validation\u001b[39m\u001b[39m\"\u001b[39m,\n\u001b[0;32m   (...)\u001b[0m\n\u001b[1;32m    489\u001b[0m     \u001b[39m*\u001b[39m\u001b[39m*\u001b[39mcheck_params,\n\u001b[1;32m    490\u001b[0m ):\n\u001b[1;32m    491\u001b[0m \u001b[39m    \u001b[39m\u001b[39m\"\"\"Validate input data and set or check the `n_features_in_` attribute.\u001b[39;00m\n\u001b[1;32m    492\u001b[0m \n\u001b[1;32m    493\u001b[0m \u001b[39m    Parameters\u001b[39;00m\n\u001b[0;32m   (...)\u001b[0m\n\u001b[1;32m    546\u001b[0m \u001b[39m        validated.\u001b[39;00m\n\u001b[1;32m    547\u001b[0m \u001b[39m    \"\"\"\u001b[39;00m\n\u001b[0;32m--> 548\u001b[0m     \u001b[39mself\u001b[39;49m\u001b[39m.\u001b[39;49m_check_feature_names(X, reset\u001b[39m=\u001b[39;49mreset)\n\u001b[1;32m    550\u001b[0m     \u001b[39mif\u001b[39;00m y \u001b[39mis\u001b[39;00m \u001b[39mNone\u001b[39;00m \u001b[39mand\u001b[39;00m \u001b[39mself\u001b[39m\u001b[39m.\u001b[39m_get_tags()[\u001b[39m\"\u001b[39m\u001b[39mrequires_y\u001b[39m\u001b[39m\"\u001b[39m]:\n\u001b[1;32m    551\u001b[0m         \u001b[39mraise\u001b[39;00m \u001b[39mValueError\u001b[39;00m(\n\u001b[1;32m    552\u001b[0m             \u001b[39mf\u001b[39m\u001b[39m\"\u001b[39m\u001b[39mThis \u001b[39m\u001b[39m{\u001b[39;00m\u001b[39mself\u001b[39m\u001b[39m.\u001b[39m\u001b[39m__class__\u001b[39m\u001b[39m.\u001b[39m\u001b[39m__name__\u001b[39m\u001b[39m}\u001b[39;00m\u001b[39m estimator \u001b[39m\u001b[39m\"\u001b[39m\n\u001b[1;32m    553\u001b[0m             \u001b[39m\"\u001b[39m\u001b[39mrequires y to be passed, but the target y is None.\u001b[39m\u001b[39m\"\u001b[39m\n\u001b[1;32m    554\u001b[0m         )\n",
            "File \u001b[0;32m~/.local/lib/python3.10/site-packages/sklearn/base.py:481\u001b[0m, in \u001b[0;36mBaseEstimator._check_feature_names\u001b[0;34m(self, X, reset)\u001b[0m\n\u001b[1;32m    476\u001b[0m \u001b[39mif\u001b[39;00m \u001b[39mnot\u001b[39;00m missing_names \u001b[39mand\u001b[39;00m \u001b[39mnot\u001b[39;00m unexpected_names:\n\u001b[1;32m    477\u001b[0m     message \u001b[39m+\u001b[39m\u001b[39m=\u001b[39m (\n\u001b[1;32m    478\u001b[0m         \u001b[39m\"\u001b[39m\u001b[39mFeature names must be in the same order as they were in fit.\u001b[39m\u001b[39m\\n\u001b[39;00m\u001b[39m\"\u001b[39m\n\u001b[1;32m    479\u001b[0m     )\n\u001b[0;32m--> 481\u001b[0m \u001b[39mraise\u001b[39;00m \u001b[39mValueError\u001b[39;00m(message)\n",
            "\u001b[0;31mValueError\u001b[0m: The feature names should match those that were passed during fit.\nFeature names unseen at fit time:\n- previous\n"
          ]
        }
      ],
      "source": [
        "campaign = pd.read_csv('https://raw.githubusercontent.com/byui-cse/cse450-course/master/data/bank_holdout_test.csv')\n",
        "clf2 = pickle.loads(s)\n",
        "\n",
        "campaign.replace({'no':0,'yes':1},inplace=True)\n",
        "\n",
        "campaign = campaign.replace(\"unknown\", np.nan)\n",
        "\n",
        "campaign = campaign.drop([\"default\", \"poutcome\"], axis=1)\n",
        "campaign[\"housing\"] = campaign[\"housing\"].astype(float)\n",
        "campaign[\"loan\"] = campaign[\"loan\"].astype(float)\n",
        "\n",
        "campaign[\"education\"]=campaign[\"education\"].replace([\"illiterate\",\"basic.4y\",\"basic.6y\",\"basic.9y\",\"high.school\",\"professional.course\",\"university.degree\"],[1,2,3,4,5,6,7])\n",
        "campaign[\"education\"].value_counts()\n",
        "campaign = pd.get_dummies(campaign,prefix=[\"job\"],columns=[\"job\"])\n",
        "campaign = pd.get_dummies(campaign,prefix=[\"marital\"],columns=[\"marital\"])\n",
        "campaign = pd.get_dummies(campaign,prefix=[\"contact\"],columns=[\"contact\"])\n",
        "\n",
        "campaign['day_of_week'] = campaign['day_of_week'].replace([\"mon\",\"tue\",\"wed\",\"thu\",\"fri\"],[1,2,3,4,5]) \n",
        "campaign['month'] = campaign['month'].replace([\"jan\",\"feb\",\"mar\",\"apr\", \"may\",\"jun\", \"jul\", \"aug\", \"sep\", \"oct\", \"nov\", \"dec\"],[1,2,3,4,5,6,7,8,9,10,11,12]) \n",
        "\n",
        "imp_mean = SimpleImputer(missing_values=np.nan, strategy='median')\n",
        "imp_mean.fit(campaign[['loan','housing']])\n",
        "campaign[['loan','housing']] = imp_mean.transform(campaign[['loan','housing']])\n",
        "imp_mode = SimpleImputer(missing_values=np.nan, strategy='most_frequent')\n",
        "imp_mode.fit(campaign[[\"education\"]])\n",
        "campaign[[\"education\"]] = imp_mode.transform(campaign[[\"education\"]])\n",
        "\n",
        "clf2.predict(campaign)"
      ]
    },
    {
      "attachments": {},
      "cell_type": "markdown",
      "metadata": {},
      "source": [
        "Does it make sense to call students at all?"
      ]
    },
    {
      "cell_type": "code",
      "execution_count": 2,
      "metadata": {},
      "outputs": [
        {
          "data": {
            "text/plain": [
              "job\n",
              "admin.           1234\n",
              "technician        659\n",
              "blue-collar       568\n",
              "retired           387\n",
              "management        303\n",
              "services          293\n",
              "student           249\n",
              "self-employed     137\n",
              "unemployed        134\n",
              "entrepreneur      113\n",
              "housemaid          96\n",
              "unknown            35\n",
              "Name: count, dtype: int64"
            ]
          },
          "execution_count": 2,
          "metadata": {},
          "output_type": "execute_result"
        }
      ],
      "source": [
        "# Does it make sense to call students at all?\n",
        "import pandas as pd\n",
        "\n",
        "campaign = pd.read_csv('https://raw.githubusercontent.com/byui-cse/cse450-course/master/data/bank.csv')\n",
        "\n",
        "yes = campaign[ campaign['y'] == 'yes']\n",
        "yes['job'].value_counts()"
      ]
    },
    {
      "cell_type": "code",
      "execution_count": 8,
      "metadata": {},
      "outputs": [
        {
          "ename": "ModuleNotFoundError",
          "evalue": "No module named 'altair'",
          "output_type": "error",
          "traceback": [
            "\u001b[0;31m---------------------------------------------------------------------------\u001b[0m",
            "\u001b[0;31mModuleNotFoundError\u001b[0m                       Traceback (most recent call last)",
            "Cell \u001b[0;32mIn[8], line 1\u001b[0m\n\u001b[0;32m----> 1\u001b[0m \u001b[39mimport\u001b[39;00m \u001b[39maltair\u001b[39;00m \u001b[39mas\u001b[39;00m \u001b[39malt\u001b[39;00m\n\u001b[1;32m      3\u001b[0m alt\u001b[39m.\u001b[39mChart(yes)\u001b[39m.\u001b[39mmark_bar(\n\u001b[1;32m      4\u001b[0m     \n\u001b[1;32m      5\u001b[0m )\u001b[39m.\u001b[39mencode(\n\u001b[0;32m   (...)\u001b[0m\n\u001b[1;32m      9\u001b[0m     title\u001b[39m=\u001b[39m\u001b[39m\"\u001b[39m\u001b[39mThe Job of the Client Aubscribed a Term Deposit\u001b[39m\u001b[39m\"\u001b[39m\n\u001b[1;32m     10\u001b[0m )\n",
            "\u001b[0;31mModuleNotFoundError\u001b[0m: No module named 'altair'"
          ]
        }
      ],
      "source": [
        "import altair as alt\n",
        "\n",
        "alt.Chart(yes).mark_bar(\n",
        "    \n",
        ").encode(\n",
        "    x=alt.X('job:N', axis=alt.Axis(labelFontSize=14, labelAngle=0)),\n",
        "    y=alt.Y('count()', title='Number of People'),\n",
        ").properties(\n",
        "    title=\"The Job of the Client Aubscribed a Term Deposit\"\n",
        ")"
      ]
    }
  ],
  "metadata": {
    "colab": {
      "name": "starter_bank.ipynb",
      "provenance": []
    },
    "kernelspec": {
      "display_name": "Python 3 (ipykernel)",
      "language": "python",
      "name": "python3"
    },
    "language_info": {
      "codemirror_mode": {
        "name": "ipython",
        "version": 3
      },
      "file_extension": ".py",
      "mimetype": "text/x-python",
      "name": "python",
      "nbconvert_exporter": "python",
      "pygments_lexer": "ipython3",
      "version": "3.10.4"
    }
  },
  "nbformat": 4,
  "nbformat_minor": 0
}
