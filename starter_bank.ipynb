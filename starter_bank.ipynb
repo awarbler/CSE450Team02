{
  "cells": [
    {
      "cell_type": "code",
      "execution_count": 75,
      "metadata": {
        "id": "mA0HPVmIBT4C"
      },
      "outputs": [],
      "source": [
        "import pandas as pd\n",
        "import numpy as np\n",
        "\n",
        "campaign = pd.read_csv('https://raw.githubusercontent.com/byui-cse/cse450-course/master/data/bank.csv')"
      ]
    },
    {
      "attachments": {},
      "cell_type": "markdown",
      "metadata": {},
      "source": [
        "# Goals \n",
        "1. the core task we're interested in is identifying those customers most likely to subscribe to a term deposit\n",
        "\n",
        " \n",
        "\n",
        "2. actionable patterns in data\n",
        "\n",
        " \n",
        "\n",
        "3. does frequent contact have an adverse effect\n",
        "\n",
        " \n",
        "\n",
        "4. seperate models for historic economic indicators\n",
        "\n",
        " \n",
        "\n",
        "5. the model should be saved to a file\n",
        "\n",
        " \n",
        "\n",
        "6. run the model on a different set of data and make target predictions"
      ]
    },
    {
      "cell_type": "code",
      "execution_count": 76,
      "metadata": {
        "colab": {
          "base_uri": "https://localhost:8080/"
        },
        "id": "StiU5QcPPxqQ",
        "outputId": "88fbdacf-bb79-4146-8dc8-b6007d9ce53e"
      },
      "outputs": [
        {
          "data": {
            "text/plain": [
              "age                 int64\n",
              "job                object\n",
              "marital            object\n",
              "education          object\n",
              "default            object\n",
              "housing            object\n",
              "loan               object\n",
              "contact            object\n",
              "month              object\n",
              "day_of_week        object\n",
              "campaign            int64\n",
              "pdays               int64\n",
              "previous            int64\n",
              "poutcome           object\n",
              "emp.var.rate      float64\n",
              "cons.price.idx    float64\n",
              "cons.conf.idx     float64\n",
              "euribor3m         float64\n",
              "nr.employed       float64\n",
              "y                  object\n",
              "dtype: object"
            ]
          },
          "execution_count": 76,
          "metadata": {},
          "output_type": "execute_result"
        }
      ],
      "source": [
        "campaign.dtypes"
      ]
    },
    {
      "cell_type": "code",
      "execution_count": 77,
      "metadata": {
        "colab": {
          "base_uri": "https://localhost:8080/",
          "height": 213
        },
        "id": "ALLMN63FPyEQ",
        "outputId": "03794010-fc98-4deb-d252-29159a86c55b"
      },
      "outputs": [
        {
          "data": {
            "text/html": [
              "<div>\n",
              "<style scoped>\n",
              "    .dataframe tbody tr th:only-of-type {\n",
              "        vertical-align: middle;\n",
              "    }\n",
              "\n",
              "    .dataframe tbody tr th {\n",
              "        vertical-align: top;\n",
              "    }\n",
              "\n",
              "    .dataframe thead th {\n",
              "        text-align: right;\n",
              "    }\n",
              "</style>\n",
              "<table border=\"1\" class=\"dataframe\">\n",
              "  <thead>\n",
              "    <tr style=\"text-align: right;\">\n",
              "      <th></th>\n",
              "      <th>age</th>\n",
              "      <th>job</th>\n",
              "      <th>marital</th>\n",
              "      <th>education</th>\n",
              "      <th>default</th>\n",
              "      <th>housing</th>\n",
              "      <th>loan</th>\n",
              "      <th>contact</th>\n",
              "      <th>month</th>\n",
              "      <th>day_of_week</th>\n",
              "      <th>campaign</th>\n",
              "      <th>pdays</th>\n",
              "      <th>previous</th>\n",
              "      <th>poutcome</th>\n",
              "      <th>emp.var.rate</th>\n",
              "      <th>cons.price.idx</th>\n",
              "      <th>cons.conf.idx</th>\n",
              "      <th>euribor3m</th>\n",
              "      <th>nr.employed</th>\n",
              "      <th>y</th>\n",
              "    </tr>\n",
              "  </thead>\n",
              "  <tbody>\n",
              "    <tr>\n",
              "      <th>0</th>\n",
              "      <td>56</td>\n",
              "      <td>housemaid</td>\n",
              "      <td>married</td>\n",
              "      <td>basic.4y</td>\n",
              "      <td>no</td>\n",
              "      <td>no</td>\n",
              "      <td>no</td>\n",
              "      <td>telephone</td>\n",
              "      <td>may</td>\n",
              "      <td>mon</td>\n",
              "      <td>1</td>\n",
              "      <td>999</td>\n",
              "      <td>0</td>\n",
              "      <td>nonexistent</td>\n",
              "      <td>1.1</td>\n",
              "      <td>93.994</td>\n",
              "      <td>-36.4</td>\n",
              "      <td>4.857</td>\n",
              "      <td>5191.0</td>\n",
              "      <td>no</td>\n",
              "    </tr>\n",
              "    <tr>\n",
              "      <th>1</th>\n",
              "      <td>57</td>\n",
              "      <td>services</td>\n",
              "      <td>married</td>\n",
              "      <td>high.school</td>\n",
              "      <td>unknown</td>\n",
              "      <td>no</td>\n",
              "      <td>no</td>\n",
              "      <td>telephone</td>\n",
              "      <td>may</td>\n",
              "      <td>mon</td>\n",
              "      <td>1</td>\n",
              "      <td>999</td>\n",
              "      <td>0</td>\n",
              "      <td>nonexistent</td>\n",
              "      <td>1.1</td>\n",
              "      <td>93.994</td>\n",
              "      <td>-36.4</td>\n",
              "      <td>4.857</td>\n",
              "      <td>5191.0</td>\n",
              "      <td>no</td>\n",
              "    </tr>\n",
              "    <tr>\n",
              "      <th>2</th>\n",
              "      <td>37</td>\n",
              "      <td>services</td>\n",
              "      <td>married</td>\n",
              "      <td>high.school</td>\n",
              "      <td>no</td>\n",
              "      <td>yes</td>\n",
              "      <td>no</td>\n",
              "      <td>telephone</td>\n",
              "      <td>may</td>\n",
              "      <td>mon</td>\n",
              "      <td>1</td>\n",
              "      <td>999</td>\n",
              "      <td>0</td>\n",
              "      <td>nonexistent</td>\n",
              "      <td>1.1</td>\n",
              "      <td>93.994</td>\n",
              "      <td>-36.4</td>\n",
              "      <td>4.857</td>\n",
              "      <td>5191.0</td>\n",
              "      <td>no</td>\n",
              "    </tr>\n",
              "    <tr>\n",
              "      <th>3</th>\n",
              "      <td>40</td>\n",
              "      <td>admin.</td>\n",
              "      <td>married</td>\n",
              "      <td>basic.6y</td>\n",
              "      <td>no</td>\n",
              "      <td>no</td>\n",
              "      <td>no</td>\n",
              "      <td>telephone</td>\n",
              "      <td>may</td>\n",
              "      <td>mon</td>\n",
              "      <td>1</td>\n",
              "      <td>999</td>\n",
              "      <td>0</td>\n",
              "      <td>nonexistent</td>\n",
              "      <td>1.1</td>\n",
              "      <td>93.994</td>\n",
              "      <td>-36.4</td>\n",
              "      <td>4.857</td>\n",
              "      <td>5191.0</td>\n",
              "      <td>no</td>\n",
              "    </tr>\n",
              "    <tr>\n",
              "      <th>4</th>\n",
              "      <td>56</td>\n",
              "      <td>services</td>\n",
              "      <td>married</td>\n",
              "      <td>high.school</td>\n",
              "      <td>no</td>\n",
              "      <td>no</td>\n",
              "      <td>yes</td>\n",
              "      <td>telephone</td>\n",
              "      <td>may</td>\n",
              "      <td>mon</td>\n",
              "      <td>1</td>\n",
              "      <td>999</td>\n",
              "      <td>0</td>\n",
              "      <td>nonexistent</td>\n",
              "      <td>1.1</td>\n",
              "      <td>93.994</td>\n",
              "      <td>-36.4</td>\n",
              "      <td>4.857</td>\n",
              "      <td>5191.0</td>\n",
              "      <td>no</td>\n",
              "    </tr>\n",
              "  </tbody>\n",
              "</table>\n",
              "</div>"
            ],
            "text/plain": [
              "   age        job  marital    education  default housing loan    contact   \n",
              "0   56  housemaid  married     basic.4y       no      no   no  telephone  \\\n",
              "1   57   services  married  high.school  unknown      no   no  telephone   \n",
              "2   37   services  married  high.school       no     yes   no  telephone   \n",
              "3   40     admin.  married     basic.6y       no      no   no  telephone   \n",
              "4   56   services  married  high.school       no      no  yes  telephone   \n",
              "\n",
              "  month day_of_week  campaign  pdays  previous     poutcome  emp.var.rate   \n",
              "0   may         mon         1    999         0  nonexistent           1.1  \\\n",
              "1   may         mon         1    999         0  nonexistent           1.1   \n",
              "2   may         mon         1    999         0  nonexistent           1.1   \n",
              "3   may         mon         1    999         0  nonexistent           1.1   \n",
              "4   may         mon         1    999         0  nonexistent           1.1   \n",
              "\n",
              "   cons.price.idx  cons.conf.idx  euribor3m  nr.employed   y  \n",
              "0          93.994          -36.4      4.857       5191.0  no  \n",
              "1          93.994          -36.4      4.857       5191.0  no  \n",
              "2          93.994          -36.4      4.857       5191.0  no  \n",
              "3          93.994          -36.4      4.857       5191.0  no  \n",
              "4          93.994          -36.4      4.857       5191.0  no  "
            ]
          },
          "execution_count": 77,
          "metadata": {},
          "output_type": "execute_result"
        }
      ],
      "source": [
        "campaign.head(5)"
      ]
    },
    {
      "cell_type": "code",
      "execution_count": 78,
      "metadata": {
        "colab": {
          "base_uri": "https://localhost:8080/"
        },
        "id": "RnGBwGVZPyyh",
        "outputId": "f3310480-f79b-4a93-f316-b421f5b3253a"
      },
      "outputs": [
        {
          "data": {
            "text/plain": [
              "day_of_week\n",
              "thu    958\n",
              "wed    865\n",
              "tue    857\n",
              "fri    767\n",
              "mon    761\n",
              "Name: count, dtype: int64"
            ]
          },
          "execution_count": 78,
          "metadata": {},
          "output_type": "execute_result"
        }
      ],
      "source": [
        "yes = campaign[ campaign['y'] == 'yes']\n",
        "yes['day_of_week'].value_counts()"
      ]
    },
    {
      "cell_type": "code",
      "execution_count": 79,
      "metadata": {
        "id": "7qsdd6yjcCAQ"
      },
      "outputs": [],
      "source": [
        "campaign.replace({'no':0,'yes':1},inplace=True)"
      ]
    },
    {
      "cell_type": "code",
      "execution_count": 80,
      "metadata": {
        "colab": {
          "base_uri": "https://localhost:8080/"
        },
        "id": "CVSfaqgKPzE2",
        "outputId": "308b5096-be79-4b05-b7a1-7a75f294016b"
      },
      "outputs": [
        {
          "data": {
            "text/plain": [
              "'import altair as alt\\n\\nday = campaign.groupby([\"day_of_week\",\"y\"])[\"day_of_week\"].count()\\nday.head(15)\\n\\nalt.Chart(day).mark_bar().transform_calculate().encode(\\n    alt.X(\\'y:N\\', title=\\'Survived\\', axis=alt.Axis(labelFontSize=14, labelAngle=0)),\\n    alt.Y(\\'\\', title=\\'Total Survivors\\'),\\n    column=alt.Column(\\'day_of_week:N\\', title=None)\\n).properties(\\n    title=\\'How Did Passenger Gender Affect Survival\\',\\n    width=100\\n)'"
            ]
          },
          "execution_count": 80,
          "metadata": {},
          "output_type": "execute_result"
        }
      ],
      "source": [
        "from typing_extensions import dataclass_transform\n",
        "'''import altair as alt\n",
        "\n",
        "day = campaign.groupby([\"day_of_week\",\"y\"])[\"day_of_week\"].count()\n",
        "day.head(15)\n",
        "\n",
        "alt.Chart(day).mark_bar().transform_calculate().encode(\n",
        "    alt.X('y:N', title='Survived', axis=alt.Axis(labelFontSize=14, labelAngle=0)),\n",
        "    alt.Y('', title='Total Survivors'),\n",
        "    column=alt.Column('day_of_week:N', title=None)\n",
        ").properties(\n",
        "    title='How Did Passenger Gender Affect Survival',\n",
        "    width=100\n",
        ")'''"
      ]
    },
    {
      "cell_type": "code",
      "execution_count": 81,
      "metadata": {},
      "outputs": [
        {
          "data": {
            "text/plain": [
              "age                  0\n",
              "job                294\n",
              "marital             69\n",
              "education         1535\n",
              "default           7725\n",
              "housing            894\n",
              "loan               894\n",
              "contact              0\n",
              "month                0\n",
              "day_of_week          0\n",
              "campaign             0\n",
              "pdays                0\n",
              "previous             0\n",
              "poutcome             0\n",
              "emp.var.rate         0\n",
              "cons.price.idx       0\n",
              "cons.conf.idx        0\n",
              "euribor3m            0\n",
              "nr.employed          0\n",
              "y                    0\n",
              "dtype: int64"
            ]
          },
          "execution_count": 81,
          "metadata": {},
          "output_type": "execute_result"
        }
      ],
      "source": [
        "check = campaign[[\"default\", \"housing\", \"loan\"]]\n",
        "check.apply(pd.Series.value_counts)\n",
        "campaign = campaign.replace(\"unknown\", np.nan)\n",
        "#(campaign==np.nan).sum()\n",
        "campaign.isna().sum()"
      ]
    },
    {
      "cell_type": "code",
      "execution_count": 82,
      "metadata": {},
      "outputs": [
        {
          "data": {
            "text/plain": [
              "age                 int64\n",
              "job                object\n",
              "marital            object\n",
              "education          object\n",
              "housing           float64\n",
              "loan              float64\n",
              "contact            object\n",
              "month              object\n",
              "day_of_week        object\n",
              "campaign            int64\n",
              "pdays               int64\n",
              "previous            int64\n",
              "emp.var.rate      float64\n",
              "cons.price.idx    float64\n",
              "cons.conf.idx     float64\n",
              "euribor3m         float64\n",
              "nr.employed       float64\n",
              "y                   int64\n",
              "dtype: object"
            ]
          },
          "execution_count": 82,
          "metadata": {},
          "output_type": "execute_result"
        }
      ],
      "source": [
        "# both default and poutcome have so little useable data in comparison to missing data or such a poor balance of values that I don't think they are worth using in training.\n",
        "from sklearn.impute import SimpleImputer\n",
        "campaign = campaign.drop([\"default\", \"poutcome\"], axis=1)\n",
        "campaign[\"housing\"] = campaign[\"housing\"].astype(float)\n",
        "campaign[\"loan\"] = campaign[\"loan\"].astype(float)\n",
        "campaign.dtypes"
      ]
    },
    {
      "cell_type": "code",
      "execution_count": 83,
      "metadata": {},
      "outputs": [
        {
          "data": {
            "text/plain": [
              "age                    int64\n",
              "education            float64\n",
              "housing              float64\n",
              "loan                 float64\n",
              "contact               object\n",
              "month                 object\n",
              "day_of_week           object\n",
              "campaign               int64\n",
              "pdays                  int64\n",
              "previous               int64\n",
              "emp.var.rate         float64\n",
              "cons.price.idx       float64\n",
              "cons.conf.idx        float64\n",
              "euribor3m            float64\n",
              "nr.employed          float64\n",
              "y                      int64\n",
              "job_admin.              bool\n",
              "job_blue-collar         bool\n",
              "job_entrepreneur        bool\n",
              "job_housemaid           bool\n",
              "job_management          bool\n",
              "job_retired             bool\n",
              "job_self-employed       bool\n",
              "job_services            bool\n",
              "job_student             bool\n",
              "job_technician          bool\n",
              "job_unemployed          bool\n",
              "marital_divorced        bool\n",
              "marital_married         bool\n",
              "marital_single          bool\n",
              "dtype: object"
            ]
          },
          "execution_count": 83,
          "metadata": {},
          "output_type": "execute_result"
        }
      ],
      "source": [
        "\n",
        "campaign[\"education\"]=campaign[\"education\"].replace([\"illiterate\",\"basic.4y\",\"basic.6y\",\"basic.9y\",\"high.school\",\"professional.course\",\"university.degree\"],[0,1,2,3,4,5,6])\n",
        "campaign[\"education\"].value_counts()\n",
        "campaign = pd.get_dummies(campaign,prefix=[\"job\"],columns=[\"job\"])\n",
        "campaign = pd.get_dummies(campaign,prefix=[\"marital\"],columns=[\"marital\"])\n",
        "campaign = pd.get_dummies(campaign,prefix=[\"contact\"],columns=[\"contact\"])\n",
        "#campaign[\"job\"] = campaign[\"job\"].replace([\"unemployed\",\"student\",\"services\",\"housemaid\",\"blue-collar\",\"technician\",\"admin.\",\"management\",\"self-employed\",\"entrepreneur\",\"retired\"],[0,1,2,3,4,5,6,7,8,9,10])\n",
        "#campaign[\"job\"].value_counts()\n",
        "campaign.dtypes\n"
      ]
    }
  ],
  "metadata": {
    "colab": {
      "name": "starter_bank.ipynb",
      "provenance": []
    },
    "kernelspec": {
      "display_name": "Python 3 (ipykernel)",
      "language": "python",
      "name": "python3"
    },
    "language_info": {
      "codemirror_mode": {
        "name": "ipython",
        "version": 3
      },
      "file_extension": ".py",
      "mimetype": "text/x-python",
      "name": "python",
      "nbconvert_exporter": "python",
      "pygments_lexer": "ipython3",
      "version": "3.10.4"
    }
  },
  "nbformat": 4,
  "nbformat_minor": 0
}
